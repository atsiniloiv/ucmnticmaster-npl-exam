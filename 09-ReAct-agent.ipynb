{
 "cells": [
  {
   "cell_type": "code",
   "execution_count": 2,
   "id": "6e8f8305",
   "metadata": {},
   "outputs": [],
   "source": [
    "# API_KEY = \"sk-proj-hwpvzXEvm6w-2nU-**-Zw6dNemnYv32_iloRSEQsJNM7EjjiVoCGkj7szMq4Jlxx4x_sfQlEA\""
   ]
  },
  {
   "cell_type": "code",
   "execution_count": 3,
   "id": "c4e00bea",
   "metadata": {},
   "outputs": [],
   "source": [
    "from llama_index.core import Settings\n",
    "from llama_index.llms.openai import OpenAI\n",
    "from llama_index.embeddings.openai import OpenAIEmbedding\n",
    "\n",
    "\n",
    "llm_model = OpenAI(\n",
    "    model=\"gpt-4o-mini\",\n",
    "    api_key=API_KEY\n",
    ")\n",
    "\n",
    "embed_model = OpenAIEmbedding(\n",
    "    model=\"text-embedding-ada-002\",\n",
    "    api_key=API_KEY\n",
    ")\n",
    "\n",
    "\n",
    "Settings.llm = llm_model\n",
    "Settings.embed_model = embed_model"
   ]
  },
  {
   "cell_type": "code",
   "execution_count": 4,
   "id": "0935763b",
   "metadata": {},
   "outputs": [],
   "source": [
    "import requests\n",
    "\n",
    "def mensaje_por_telegram(mensaje):\n",
    "    \"\"\"Útil cuando se solicita enviar un MENSAJE a Telegram\"\"\"\n",
    "\n",
    "    url_getIdChat = 'https://api.telegram.org/bot'+bot_token+'/getUpdates'\n",
    "    response = requests.get(url_getIdChat)\n",
    "\n",
    "    bot_message = mensaje\n",
    "    url_sendMessage = 'https://api.telegram.org/bot' + bot_token + '/sendMessage?chat_id=' + bot_chatId + '&parse_mode=Markdown&text=' + bot_message\n",
    "\n",
    "    response = requests.get(url_sendMessage)\n",
    "    return response.text"
   ]
  },
  {
   "cell_type": "code",
   "execution_count": 5,
   "id": "5fda8538",
   "metadata": {},
   "outputs": [
    {
     "data": {
      "text/plain": [
       "'{\"ok\":true,\"result\":{\"message_id\":257,\"from\":{\"id\":1060305894,\"is_bot\":true,\"first_name\":\"\\\\ud83c\\\\udfc1script\",\"username\":\"edustratiobot\"},\"chat\":{\"id\":125821294,\"first_name\":\"Eduardo\",\"last_name\":\"FC\",\"type\":\"private\"},\"date\":1751701634,\"text\":\"hola, funciona el mensaje?\"}}'"
      ]
     },
     "execution_count": 5,
     "metadata": {},
     "output_type": "execute_result"
    }
   ],
   "source": [
    "mensaje_por_telegram(\"hola, funciona el mensaje?\")"
   ]
  },
  {
   "cell_type": "markdown",
   "id": "4a6c2f3c",
   "metadata": {},
   "source": [
    "# Tool"
   ]
  },
  {
   "cell_type": "code",
   "execution_count": 6,
   "id": "98454dfa",
   "metadata": {},
   "outputs": [],
   "source": [
    "from llama_index.core.tools import FunctionTool\n",
    "\n",
    "telegram_tool = FunctionTool.from_defaults(\n",
    "    mensaje_por_telegram,\n",
    "    description=\"Útil cuando se solicita enviar un MENSAJE a Telegram\"\n",
    ")"
   ]
  },
  {
   "cell_type": "markdown",
   "id": "86123f62",
   "metadata": {},
   "source": [
    "# ReAct Agent"
   ]
  },
  {
   "cell_type": "code",
   "execution_count": 7,
   "id": "63afc634",
   "metadata": {},
   "outputs": [],
   "source": [
    "from llama_index.core.agent import ReActAgent\n",
    "\n",
    "agent = ReActAgent.from_tools(\n",
    "    [telegram_tool], verbose=True\n",
    ")"
   ]
  },
  {
   "cell_type": "code",
   "execution_count": 8,
   "id": "9d4f82ab",
   "metadata": {},
   "outputs": [],
   "source": [
    "user_query = \"enviame un mensaje por telegram que diga: INCREIBLE QUE UN LLM SEA CAPAZ DE USAR LA API DE TELGRAM\""
   ]
  },
  {
   "cell_type": "code",
   "execution_count": 9,
   "id": "59e6d85a",
   "metadata": {},
   "outputs": [
    {
     "name": "stdout",
     "output_type": "stream",
     "text": [
      "> Running step 13de4939-5881-4e8f-9781-0a5c539c085a. Step input: enviame un mensaje por telegram que diga: INCREIBLE QUE UN LLM SEA CAPAZ DE USAR LA API DE TELGRAM\n",
      "\u001b[1;3;38;5;200mThought: The current language of the user is: Spanish. I need to use a tool to help me answer the question.\n",
      "Action: mensaje_por_telegram\n",
      "Action Input: {'mensaje': 'INCREIBLE QUE UN LLM SEA CAPAZ DE USAR LA API DE TELGRAM'}\n",
      "\u001b[0m\u001b[1;3;34mObservation: {\"ok\":true,\"result\":{\"message_id\":258,\"from\":{\"id\":1060305894,\"is_bot\":true,\"first_name\":\"\\ud83c\\udfc1script\",\"username\":\"edustratiobot\"},\"chat\":{\"id\":125821294,\"first_name\":\"Eduardo\",\"last_name\":\"FC\",\"type\":\"private\"},\"date\":1751701955,\"text\":\"INCREIBLE QUE UN LLM SEA CAPAZ DE USAR LA API DE TELGRAM\"}}\n",
      "\u001b[0m> Running step a2b31624-5535-45ce-ae8e-082b412a84b7. Step input: None\n",
      "\u001b[1;3;38;5;200mThought: I can answer without using any more tools. I'll use the user's language to answer.\n",
      "Answer: El mensaje ha sido enviado correctamente por Telegram.\n",
      "\u001b[0m"
     ]
    },
    {
     "data": {
      "text/plain": [
       "AgentChatResponse(response='El mensaje ha sido enviado correctamente por Telegram.', sources=[ToolOutput(content='{\"ok\":true,\"result\":{\"message_id\":258,\"from\":{\"id\":1060305894,\"is_bot\":true,\"first_name\":\"\\\\ud83c\\\\udfc1script\",\"username\":\"edustratiobot\"},\"chat\":{\"id\":125821294,\"first_name\":\"Eduardo\",\"last_name\":\"FC\",\"type\":\"private\"},\"date\":1751701955,\"text\":\"INCREIBLE QUE UN LLM SEA CAPAZ DE USAR LA API DE TELGRAM\"}}', tool_name='mensaje_por_telegram', raw_input={'args': (), 'kwargs': {'mensaje': 'INCREIBLE QUE UN LLM SEA CAPAZ DE USAR LA API DE TELGRAM'}}, raw_output='{\"ok\":true,\"result\":{\"message_id\":258,\"from\":{\"id\":1060305894,\"is_bot\":true,\"first_name\":\"\\\\ud83c\\\\udfc1script\",\"username\":\"edustratiobot\"},\"chat\":{\"id\":125821294,\"first_name\":\"Eduardo\",\"last_name\":\"FC\",\"type\":\"private\"},\"date\":1751701955,\"text\":\"INCREIBLE QUE UN LLM SEA CAPAZ DE USAR LA API DE TELGRAM\"}}', is_error=False)], source_nodes=[], is_dummy_stream=False, metadata=None)"
      ]
     },
     "execution_count": 9,
     "metadata": {},
     "output_type": "execute_result"
    }
   ],
   "source": [
    "response = agent.chat(user_query)\n",
    "response"
   ]
  },
  {
   "cell_type": "code",
   "execution_count": 13,
   "id": "8175c80d",
   "metadata": {},
   "outputs": [
    {
     "name": "stdout",
     "output_type": "stream",
     "text": [
      "You are designed to help with a variety of tasks, from answering questions to providing summaries to other types of analyses.\n",
      "\n",
      "## Tools\n",
      "\n",
      "You have access to a wide variety of tools. You are responsible for using the tools in any sequence you deem appropriate to complete the task at hand.\n",
      "This may require breaking the task into subtasks and using different tools to complete each subtask.\n",
      "\n",
      "You have access to the following tools:\n",
      "{tool_desc}\n",
      "\n",
      "\n",
      "## Output Format\n",
      "\n",
      "Please answer in the same language as the question and use the following format:\n",
      "\n",
      "```\n",
      "Thought: The current language of the user is: (user's language). I need to use a tool to help me answer the question.\n",
      "Action: tool name (one of {tool_names}) if using a tool.\n",
      "Action Input: the input to the tool, in a JSON format representing the kwargs (e.g. {{\"input\": \"hello world\", \"num_beams\": 5}})\n",
      "```\n",
      "\n",
      "Please ALWAYS start with a Thought.\n",
      "\n",
      "NEVER surround your response with markdown code markers. You may use code markers within your response if you need to.\n",
      "\n",
      "Please use a valid JSON format for the Action Input. Do NOT do this {{'input': 'hello world', 'num_beams': 5}}.\n",
      "\n",
      "If this format is used, the user will respond in the following format:\n",
      "\n",
      "```\n",
      "Observation: tool response\n",
      "```\n",
      "\n",
      "You should keep repeating the above format till you have enough information to answer the question without using any more tools. At that point, you MUST respond in one of the following two formats:\n",
      "\n",
      "```\n",
      "Thought: I can answer without using any more tools. I'll use the user's language to answer\n",
      "Answer: [your answer here (In the same language as the user's question)]\n",
      "```\n",
      "\n",
      "```\n",
      "Thought: I cannot answer the question with the provided tools.\n",
      "Answer: [your answer here (In the same language as the user's question)]\n",
      "```\n",
      "\n",
      "## Current Conversation\n",
      "\n",
      "Below is the current conversation consisting of interleaving human and assistant messages.\n",
      "\n"
     ]
    }
   ],
   "source": [
    "print(agent.get_prompts()['agent_worker:system_prompt'].template)"
   ]
  },
  {
   "cell_type": "code",
   "execution_count": 16,
   "id": "35951dca",
   "metadata": {},
   "outputs": [],
   "source": [
    "# Podríamos usar más tools?\n",
    "\n",
    "from llama_index.core import StorageContext, load_index_from_storage\n",
    "\n",
    "sc = StorageContext.from_defaults(persist_dir=\"vector_store\")\n",
    "index = load_index_from_storage(sc)\n",
    "query_engine = index.as_query_engine()"
   ]
  },
  {
   "cell_type": "code",
   "execution_count": 18,
   "id": "bbaf95f4",
   "metadata": {},
   "outputs": [],
   "source": [
    "from llama_index.core.tools import QueryEngineTool, ToolMetadata\n",
    "\n",
    "rag_tool = QueryEngineTool(\n",
    "    query_engine=query_engine,\n",
    "    metadata=ToolMetadata(\n",
    "        name=\"Seguros\",\n",
    "        description=\"Útil cuando hay que dar respuesta a preguntas relacionadas con seguros de Hogar y coberturas\"\n",
    "    )\n",
    ")"
   ]
  },
  {
   "cell_type": "code",
   "execution_count": 19,
   "id": "39cc77ea",
   "metadata": {},
   "outputs": [],
   "source": [
    "agent2 = ReActAgent.from_tools(\n",
    "    [telegram_tool, rag_tool], verbose=True\n",
    ")"
   ]
  },
  {
   "cell_type": "code",
   "execution_count": 20,
   "id": "1e942bb3",
   "metadata": {},
   "outputs": [
    {
     "name": "stdout",
     "output_type": "stream",
     "text": [
      "> Running step de0c9f88-8dbb-45dd-b2bb-72d540a67a5d. Step input: tengo alguna garantía que cubra los humos?\n",
      "\u001b[1;3;38;5;200mThought: El usuario está preguntando sobre garantías que cubran los humos, lo que sugiere que se refiere a seguros de hogar. Necesito usar la herramienta adecuada para obtener información sobre esto.\n",
      "Action: Seguros\n",
      "Action Input: {'input': '¿tengo alguna garantía que cubra los humos?'}\n",
      "\u001b[0m\u001b[1;3;34mObservation: Sí, hay garantías que cubren los daños ocasionados por humo. Estas garantías protegen tanto la vivienda como los bienes contenidos en ella, incluyendo los daños causados por humo que pueden resultar de incendios, explosiones o incluso incidentes menores, como una llamarada en la cocina. Esto significa que si el humo daña elementos como la campana extractora o el techo, los costos de reparación y restauración estarían cubiertos.\n",
      "\u001b[0m> Running step c9716304-853b-4d21-9917-eb74c6eba533. Step input: None\n",
      "\u001b[1;3;38;5;200mThought: Puedo responder sin usar más herramientas. Utilizaré el idioma del usuario para responder.\n",
      "Answer: Sí, hay garantías que cubren los daños ocasionados por humo. Estas garantías protegen tanto la vivienda como los bienes contenidos en ella, incluyendo los daños causados por humo que pueden resultar de incendios, explosiones o incluso incidentes menores, como una llamarada en la cocina. Esto significa que si el humo daña elementos como la campana extractora o el techo, los costos de reparación y restauración estarían cubiertos.\n",
      "\u001b[0m"
     ]
    },
    {
     "data": {
      "text/plain": [
       "AgentChatResponse(response='Sí, hay garantías que cubren los daños ocasionados por humo. Estas garantías protegen tanto la vivienda como los bienes contenidos en ella, incluyendo los daños causados por humo que pueden resultar de incendios, explosiones o incluso incidentes menores, como una llamarada en la cocina. Esto significa que si el humo daña elementos como la campana extractora o el techo, los costos de reparación y restauración estarían cubiertos.', sources=[ToolOutput(content='Sí, hay garantías que cubren los daños ocasionados por humo. Estas garantías protegen tanto la vivienda como los bienes contenidos en ella, incluyendo los daños causados por humo que pueden resultar de incendios, explosiones o incluso incidentes menores, como una llamarada en la cocina. Esto significa que si el humo daña elementos como la campana extractora o el techo, los costos de reparación y restauración estarían cubiertos.', tool_name='Seguros', raw_input={'input': '¿tengo alguna garantía que cubra los humos?'}, raw_output=Response(response='Sí, hay garantías que cubren los daños ocasionados por humo. Estas garantías protegen tanto la vivienda como los bienes contenidos en ella, incluyendo los daños causados por humo que pueden resultar de incendios, explosiones o incluso incidentes menores, como una llamarada en la cocina. Esto significa que si el humo daña elementos como la campana extractora o el techo, los costos de reparación y restauración estarían cubiertos.', source_nodes=[NodeWithScore(node=TextNode(id_='6bfc8ac5-b21a-40ae-855c-d36b29946a20', embedding=None, metadata={'page_label': '2', 'file_name': 'AF-SL-TablasGarantiasHogar-Completo-Modalidad14-v11-CAS.pdf', 'file_path': 'C:\\\\Users\\\\efclprd\\\\Desktop\\\\nlp\\\\seguros\\\\AF-SL-TablasGarantiasHogar-Completo-Modalidad14-v11-CAS.pdf', 'file_type': 'application/pdf', 'file_size': 96118, 'creation_date': '2025-07-04', 'last_modified_date': '2025-07-04', 'questions_this_excerpt_can_answer': 'Con base en la información proporcionada sobre las garantías básicas en el contexto de un seguro de hogar, aquí tienes dos ejemplos específicos para cada tipo de seguro:\\n\\n### 1. Seguro Hogar Completo\\n**Ejemplo de Garantía: Incendio y Daños por Humo**\\n- **Descripción:** Este seguro cubre daños en la vivienda y en los bienes contenidos en ella causados por incendios, explosiones y la caída de rayos. Además, incluye la reparación de daños ocasionados por humo, incluso si estos son provocados por incidentes menores, como una llamarada de una sartén que dañe la campana extractora y manche el techo.\\n- **Cobertura:** Reparación de la campana y pintura del techo afectado por el humo.\\n\\n### 2. Seguro Hogar Eficaz\\n**Ejemplo de Garantía: Daños por Incendio**\\n- **Descripción:** Este seguro ofrece protección contra incendios y explosiones, así como daños por humo. Por ejemplo, si ocurre un incendio en la cocina que afecta tanto la estructura de la vivienda como los electrodomésticos, el seguro cubrirá los costos de reparación y reemplazo.\\n- **Cobertura:** Costos de reparación de la cocina y reemplazo de electrodomésticos dañados por el fuego.\\n\\n### 3. Seguro Hogar Premium\\n**Ejemplo de Garantía: Cobertura Integral de Incendios y Efectos Secundarios**\\n- **Descripción:** Este seguro premium no solo cubre daños por incendios y explosiones, sino que también incluye una amplia gama de efectos secundarios, como daños por humo de cualquier origen, ya sea interno o externo. Esto significa que si un incendio en la vivienda de un vecino provoca daños en la propia vivienda, estos estarán cubiertos.\\n- **Cobertura:** Reparación de daños estructurales y restauración de bienes personales afectados por el humo y el fuego, así como asistencia para la limpieza y restauración de la vivienda.\\n\\nEstos ejemplos ilustran cómo cada tipo de seguro puede ofrecer diferentes niveles de protección y cobertura en situaciones relacionadas con incendios y daños por humo.'}, excluded_embed_metadata_keys=['file_name', 'file_type', 'file_size', 'creation_date', 'last_modified_date', 'last_accessed_date'], excluded_llm_metadata_keys=['file_name', 'file_type', 'file_size', 'creation_date', 'last_modified_date', 'last_accessed_date'], relationships={<NodeRelationship.SOURCE: '1'>: RelatedNodeInfo(node_id='12d5b399-b53f-4da5-b98c-202bb6c82db4', node_type='4', metadata={'page_label': '2', 'file_name': 'AF-SL-TablasGarantiasHogar-Completo-Modalidad14-v11-CAS.pdf', 'file_path': 'C:\\\\Users\\\\efclprd\\\\Desktop\\\\nlp\\\\seguros\\\\AF-SL-TablasGarantiasHogar-Completo-Modalidad14-v11-CAS.pdf', 'file_type': 'application/pdf', 'file_size': 96118, 'creation_date': '2025-07-04', 'last_modified_date': '2025-07-04'}, hash='20e9920d9d286af6ae543c3fadb13dabc36162c25fd9300d532f44c70bea121d'), <NodeRelationship.NEXT: '3'>: RelatedNodeInfo(node_id='5ca57d9d-cf2e-4b98-a916-75c6632bf9c3', node_type='1', metadata={}, hash='d6d400902eb865b986f2ac66e28ee2124921affb6d36af513641fc7e5e8541e4')}, metadata_template='{key}: {value}', metadata_separator='\\n', text='GARANTÍAS BÁSICAS EJEMPLOS\\nIncendio, caída del rayo, explosión, auto explosión y efectos secundarios\\nDaños en la vivienda y lo que contenga producidos por el fuego, una \\nexplosión, la caída de un rayo y la acción del humo que se provoque ya tenga \\nsu origen en la propia vivienda o externo. Incluye los daños que ocasione el \\nhumo por escapes repentinos en cocinas, sistemas de calefacción y otros \\naparatos eléctricos.\\nTodos sabemos que estamos cubiertos en caso de incendio \\npero, ¿sabías también que lo estás si se produce una llamarada \\nde una sartén, quema la campana y mancha el techo de humo?. \\nPagamos la reparación de la campana y la pintura del techo.', mimetype='text/plain', start_char_idx=0, end_char_idx=661, metadata_seperator='\\n', text_template='[Excerpt from document]\\n{metadata_str}\\nExcerpt:\\n-----\\n{content}\\n-----\\n'), score=0.8486152516163972), NodeWithScore(node=TextNode(id_='fafa27e8-88b4-4fd6-9868-3018d7d5dfd9', embedding=None, metadata={'page_label': '2', 'file_name': 'AF-SL-TablasGarantiasHogar-Premium-Modalidad15-v13-CAS.pdf', 'file_path': 'C:\\\\Users\\\\efclprd\\\\Desktop\\\\nlp\\\\seguros\\\\AF-SL-TablasGarantiasHogar-Premium-Modalidad15-v13-CAS.pdf', 'file_type': 'application/pdf', 'file_size': 101016, 'creation_date': '2025-07-04', 'last_modified_date': '2025-07-04', 'questions_this_excerpt_can_answer': 'Con base en la información proporcionada sobre las garantías básicas del seguro Hogar Premium, aquí tienes dos ejemplos de coberturas que podrían incluirse en este tipo de seguro:\\n\\n1. **Cobertura por Incendio y Daños por Humo**:\\n   - **Tipo de Seguro**: Hogar Premium\\n   - **Descripción**: Esta cobertura protege la vivienda y sus contenidos contra daños causados por incendios, explosiones y la caída de rayos. Además, incluye los daños ocasionados por el humo, ya sea que provengan de un incendio en la vivienda o de fuentes externas. Por ejemplo, si se produce una llamarada en la cocina que daña la campana extractora y mancha el techo, el seguro cubrirá tanto la reparación de la campana como la pintura del techo.\\n\\n2. **Cobertura por Daños por Agua**:\\n   - **Tipo de Seguro**: Hogar Premium\\n   - **Descripción**: Esta garantía cubre los daños en la vivienda y sus contenidos causados por filtraciones de agua, roturas de tuberías o desbordamientos de sistemas de fontanería. Por ejemplo, si una tubería se rompe y causa inundación en el salón, el seguro se encargará de cubrir los costos de reparación de los daños en el suelo, las paredes y los muebles afectados.\\n\\nEstos ejemplos ilustran cómo el seguro Hogar Premium ofrece una protección integral para diferentes situaciones que pueden afectar la vivienda y su contenido.'}, excluded_embed_metadata_keys=['file_name', 'file_type', 'file_size', 'creation_date', 'last_modified_date', 'last_accessed_date'], excluded_llm_metadata_keys=['file_name', 'file_type', 'file_size', 'creation_date', 'last_modified_date', 'last_accessed_date'], relationships={<NodeRelationship.SOURCE: '1'>: RelatedNodeInfo(node_id='c147d520-0184-40eb-ad4a-a520b5aa31a4', node_type='4', metadata={'page_label': '2', 'file_name': 'AF-SL-TablasGarantiasHogar-Premium-Modalidad15-v13-CAS.pdf', 'file_path': 'C:\\\\Users\\\\efclprd\\\\Desktop\\\\nlp\\\\seguros\\\\AF-SL-TablasGarantiasHogar-Premium-Modalidad15-v13-CAS.pdf', 'file_type': 'application/pdf', 'file_size': 101016, 'creation_date': '2025-07-04', 'last_modified_date': '2025-07-04'}, hash='f1b45391a48e9846edd5b8dbf03ec02b158c76e46e9a3b19466485d031460d2f'), <NodeRelationship.NEXT: '3'>: RelatedNodeInfo(node_id='39607de5-be49-4225-9c56-4fe78b03347e', node_type='1', metadata={}, hash='70d485efcfa5251f04ce2c7c679978117e8c32c02ae98847d8a3aea62f91eaa7')}, metadata_template='{key}: {value}', metadata_separator='\\n', text='HOGAR PREMIUM\\nGARANTÍAS BÁSICAS EJEMPLOS\\nIncendio, caída del rayo, explosión, auto explosión y efectos secundarios\\nDaños en la vivienda y lo que contenga producidos por el fuego, una \\nexplosión, la caída de un rayo y la acción del humo que se provoque ya tenga \\nsu origen en la propia vivienda o externo. Incluye los daños que ocasione el \\nhumo por escapes repentinos en cocinas, sistemas de calefacción y otros \\naparatos eléctricos.\\nTodos sabemos que estamos cubiertos en caso de incendio \\npero, ¿sabías también que lo estás si se produce una llamarada \\nde una sartén, quema la campana y mancha el techo de humo? \\nPagamos la reparación de la campana y la pintura del techo.', mimetype='text/plain', start_char_idx=0, end_char_idx=674, metadata_seperator='\\n', text_template='[Excerpt from document]\\n{metadata_str}\\nExcerpt:\\n-----\\n{content}\\n-----\\n'), score=0.846374163725565)], metadata={'6bfc8ac5-b21a-40ae-855c-d36b29946a20': {'page_label': '2', 'file_name': 'AF-SL-TablasGarantiasHogar-Completo-Modalidad14-v11-CAS.pdf', 'file_path': 'C:\\\\Users\\\\efclprd\\\\Desktop\\\\nlp\\\\seguros\\\\AF-SL-TablasGarantiasHogar-Completo-Modalidad14-v11-CAS.pdf', 'file_type': 'application/pdf', 'file_size': 96118, 'creation_date': '2025-07-04', 'last_modified_date': '2025-07-04', 'questions_this_excerpt_can_answer': 'Con base en la información proporcionada sobre las garantías básicas en el contexto de un seguro de hogar, aquí tienes dos ejemplos específicos para cada tipo de seguro:\\n\\n### 1. Seguro Hogar Completo\\n**Ejemplo de Garantía: Incendio y Daños por Humo**\\n- **Descripción:** Este seguro cubre daños en la vivienda y en los bienes contenidos en ella causados por incendios, explosiones y la caída de rayos. Además, incluye la reparación de daños ocasionados por humo, incluso si estos son provocados por incidentes menores, como una llamarada de una sartén que dañe la campana extractora y manche el techo.\\n- **Cobertura:** Reparación de la campana y pintura del techo afectado por el humo.\\n\\n### 2. Seguro Hogar Eficaz\\n**Ejemplo de Garantía: Daños por Incendio**\\n- **Descripción:** Este seguro ofrece protección contra incendios y explosiones, así como daños por humo. Por ejemplo, si ocurre un incendio en la cocina que afecta tanto la estructura de la vivienda como los electrodomésticos, el seguro cubrirá los costos de reparación y reemplazo.\\n- **Cobertura:** Costos de reparación de la cocina y reemplazo de electrodomésticos dañados por el fuego.\\n\\n### 3. Seguro Hogar Premium\\n**Ejemplo de Garantía: Cobertura Integral de Incendios y Efectos Secundarios**\\n- **Descripción:** Este seguro premium no solo cubre daños por incendios y explosiones, sino que también incluye una amplia gama de efectos secundarios, como daños por humo de cualquier origen, ya sea interno o externo. Esto significa que si un incendio en la vivienda de un vecino provoca daños en la propia vivienda, estos estarán cubiertos.\\n- **Cobertura:** Reparación de daños estructurales y restauración de bienes personales afectados por el humo y el fuego, así como asistencia para la limpieza y restauración de la vivienda.\\n\\nEstos ejemplos ilustran cómo cada tipo de seguro puede ofrecer diferentes niveles de protección y cobertura en situaciones relacionadas con incendios y daños por humo.'}, 'fafa27e8-88b4-4fd6-9868-3018d7d5dfd9': {'page_label': '2', 'file_name': 'AF-SL-TablasGarantiasHogar-Premium-Modalidad15-v13-CAS.pdf', 'file_path': 'C:\\\\Users\\\\efclprd\\\\Desktop\\\\nlp\\\\seguros\\\\AF-SL-TablasGarantiasHogar-Premium-Modalidad15-v13-CAS.pdf', 'file_type': 'application/pdf', 'file_size': 101016, 'creation_date': '2025-07-04', 'last_modified_date': '2025-07-04', 'questions_this_excerpt_can_answer': 'Con base en la información proporcionada sobre las garantías básicas del seguro Hogar Premium, aquí tienes dos ejemplos de coberturas que podrían incluirse en este tipo de seguro:\\n\\n1. **Cobertura por Incendio y Daños por Humo**:\\n   - **Tipo de Seguro**: Hogar Premium\\n   - **Descripción**: Esta cobertura protege la vivienda y sus contenidos contra daños causados por incendios, explosiones y la caída de rayos. Además, incluye los daños ocasionados por el humo, ya sea que provengan de un incendio en la vivienda o de fuentes externas. Por ejemplo, si se produce una llamarada en la cocina que daña la campana extractora y mancha el techo, el seguro cubrirá tanto la reparación de la campana como la pintura del techo.\\n\\n2. **Cobertura por Daños por Agua**:\\n   - **Tipo de Seguro**: Hogar Premium\\n   - **Descripción**: Esta garantía cubre los daños en la vivienda y sus contenidos causados por filtraciones de agua, roturas de tuberías o desbordamientos de sistemas de fontanería. Por ejemplo, si una tubería se rompe y causa inundación en el salón, el seguro se encargará de cubrir los costos de reparación de los daños en el suelo, las paredes y los muebles afectados.\\n\\nEstos ejemplos ilustran cómo el seguro Hogar Premium ofrece una protección integral para diferentes situaciones que pueden afectar la vivienda y su contenido.'}}), is_error=False)], source_nodes=[NodeWithScore(node=TextNode(id_='6bfc8ac5-b21a-40ae-855c-d36b29946a20', embedding=None, metadata={'page_label': '2', 'file_name': 'AF-SL-TablasGarantiasHogar-Completo-Modalidad14-v11-CAS.pdf', 'file_path': 'C:\\\\Users\\\\efclprd\\\\Desktop\\\\nlp\\\\seguros\\\\AF-SL-TablasGarantiasHogar-Completo-Modalidad14-v11-CAS.pdf', 'file_type': 'application/pdf', 'file_size': 96118, 'creation_date': '2025-07-04', 'last_modified_date': '2025-07-04', 'questions_this_excerpt_can_answer': 'Con base en la información proporcionada sobre las garantías básicas en el contexto de un seguro de hogar, aquí tienes dos ejemplos específicos para cada tipo de seguro:\\n\\n### 1. Seguro Hogar Completo\\n**Ejemplo de Garantía: Incendio y Daños por Humo**\\n- **Descripción:** Este seguro cubre daños en la vivienda y en los bienes contenidos en ella causados por incendios, explosiones y la caída de rayos. Además, incluye la reparación de daños ocasionados por humo, incluso si estos son provocados por incidentes menores, como una llamarada de una sartén que dañe la campana extractora y manche el techo.\\n- **Cobertura:** Reparación de la campana y pintura del techo afectado por el humo.\\n\\n### 2. Seguro Hogar Eficaz\\n**Ejemplo de Garantía: Daños por Incendio**\\n- **Descripción:** Este seguro ofrece protección contra incendios y explosiones, así como daños por humo. Por ejemplo, si ocurre un incendio en la cocina que afecta tanto la estructura de la vivienda como los electrodomésticos, el seguro cubrirá los costos de reparación y reemplazo.\\n- **Cobertura:** Costos de reparación de la cocina y reemplazo de electrodomésticos dañados por el fuego.\\n\\n### 3. Seguro Hogar Premium\\n**Ejemplo de Garantía: Cobertura Integral de Incendios y Efectos Secundarios**\\n- **Descripción:** Este seguro premium no solo cubre daños por incendios y explosiones, sino que también incluye una amplia gama de efectos secundarios, como daños por humo de cualquier origen, ya sea interno o externo. Esto significa que si un incendio en la vivienda de un vecino provoca daños en la propia vivienda, estos estarán cubiertos.\\n- **Cobertura:** Reparación de daños estructurales y restauración de bienes personales afectados por el humo y el fuego, así como asistencia para la limpieza y restauración de la vivienda.\\n\\nEstos ejemplos ilustran cómo cada tipo de seguro puede ofrecer diferentes niveles de protección y cobertura en situaciones relacionadas con incendios y daños por humo.'}, excluded_embed_metadata_keys=['file_name', 'file_type', 'file_size', 'creation_date', 'last_modified_date', 'last_accessed_date'], excluded_llm_metadata_keys=['file_name', 'file_type', 'file_size', 'creation_date', 'last_modified_date', 'last_accessed_date'], relationships={<NodeRelationship.SOURCE: '1'>: RelatedNodeInfo(node_id='12d5b399-b53f-4da5-b98c-202bb6c82db4', node_type='4', metadata={'page_label': '2', 'file_name': 'AF-SL-TablasGarantiasHogar-Completo-Modalidad14-v11-CAS.pdf', 'file_path': 'C:\\\\Users\\\\efclprd\\\\Desktop\\\\nlp\\\\seguros\\\\AF-SL-TablasGarantiasHogar-Completo-Modalidad14-v11-CAS.pdf', 'file_type': 'application/pdf', 'file_size': 96118, 'creation_date': '2025-07-04', 'last_modified_date': '2025-07-04'}, hash='20e9920d9d286af6ae543c3fadb13dabc36162c25fd9300d532f44c70bea121d'), <NodeRelationship.NEXT: '3'>: RelatedNodeInfo(node_id='5ca57d9d-cf2e-4b98-a916-75c6632bf9c3', node_type='1', metadata={}, hash='d6d400902eb865b986f2ac66e28ee2124921affb6d36af513641fc7e5e8541e4')}, metadata_template='{key}: {value}', metadata_separator='\\n', text='GARANTÍAS BÁSICAS EJEMPLOS\\nIncendio, caída del rayo, explosión, auto explosión y efectos secundarios\\nDaños en la vivienda y lo que contenga producidos por el fuego, una \\nexplosión, la caída de un rayo y la acción del humo que se provoque ya tenga \\nsu origen en la propia vivienda o externo. Incluye los daños que ocasione el \\nhumo por escapes repentinos en cocinas, sistemas de calefacción y otros \\naparatos eléctricos.\\nTodos sabemos que estamos cubiertos en caso de incendio \\npero, ¿sabías también que lo estás si se produce una llamarada \\nde una sartén, quema la campana y mancha el techo de humo?. \\nPagamos la reparación de la campana y la pintura del techo.', mimetype='text/plain', start_char_idx=0, end_char_idx=661, metadata_seperator='\\n', text_template='[Excerpt from document]\\n{metadata_str}\\nExcerpt:\\n-----\\n{content}\\n-----\\n'), score=0.8486152516163972), NodeWithScore(node=TextNode(id_='fafa27e8-88b4-4fd6-9868-3018d7d5dfd9', embedding=None, metadata={'page_label': '2', 'file_name': 'AF-SL-TablasGarantiasHogar-Premium-Modalidad15-v13-CAS.pdf', 'file_path': 'C:\\\\Users\\\\efclprd\\\\Desktop\\\\nlp\\\\seguros\\\\AF-SL-TablasGarantiasHogar-Premium-Modalidad15-v13-CAS.pdf', 'file_type': 'application/pdf', 'file_size': 101016, 'creation_date': '2025-07-04', 'last_modified_date': '2025-07-04', 'questions_this_excerpt_can_answer': 'Con base en la información proporcionada sobre las garantías básicas del seguro Hogar Premium, aquí tienes dos ejemplos de coberturas que podrían incluirse en este tipo de seguro:\\n\\n1. **Cobertura por Incendio y Daños por Humo**:\\n   - **Tipo de Seguro**: Hogar Premium\\n   - **Descripción**: Esta cobertura protege la vivienda y sus contenidos contra daños causados por incendios, explosiones y la caída de rayos. Además, incluye los daños ocasionados por el humo, ya sea que provengan de un incendio en la vivienda o de fuentes externas. Por ejemplo, si se produce una llamarada en la cocina que daña la campana extractora y mancha el techo, el seguro cubrirá tanto la reparación de la campana como la pintura del techo.\\n\\n2. **Cobertura por Daños por Agua**:\\n   - **Tipo de Seguro**: Hogar Premium\\n   - **Descripción**: Esta garantía cubre los daños en la vivienda y sus contenidos causados por filtraciones de agua, roturas de tuberías o desbordamientos de sistemas de fontanería. Por ejemplo, si una tubería se rompe y causa inundación en el salón, el seguro se encargará de cubrir los costos de reparación de los daños en el suelo, las paredes y los muebles afectados.\\n\\nEstos ejemplos ilustran cómo el seguro Hogar Premium ofrece una protección integral para diferentes situaciones que pueden afectar la vivienda y su contenido.'}, excluded_embed_metadata_keys=['file_name', 'file_type', 'file_size', 'creation_date', 'last_modified_date', 'last_accessed_date'], excluded_llm_metadata_keys=['file_name', 'file_type', 'file_size', 'creation_date', 'last_modified_date', 'last_accessed_date'], relationships={<NodeRelationship.SOURCE: '1'>: RelatedNodeInfo(node_id='c147d520-0184-40eb-ad4a-a520b5aa31a4', node_type='4', metadata={'page_label': '2', 'file_name': 'AF-SL-TablasGarantiasHogar-Premium-Modalidad15-v13-CAS.pdf', 'file_path': 'C:\\\\Users\\\\efclprd\\\\Desktop\\\\nlp\\\\seguros\\\\AF-SL-TablasGarantiasHogar-Premium-Modalidad15-v13-CAS.pdf', 'file_type': 'application/pdf', 'file_size': 101016, 'creation_date': '2025-07-04', 'last_modified_date': '2025-07-04'}, hash='f1b45391a48e9846edd5b8dbf03ec02b158c76e46e9a3b19466485d031460d2f'), <NodeRelationship.NEXT: '3'>: RelatedNodeInfo(node_id='39607de5-be49-4225-9c56-4fe78b03347e', node_type='1', metadata={}, hash='70d485efcfa5251f04ce2c7c679978117e8c32c02ae98847d8a3aea62f91eaa7')}, metadata_template='{key}: {value}', metadata_separator='\\n', text='HOGAR PREMIUM\\nGARANTÍAS BÁSICAS EJEMPLOS\\nIncendio, caída del rayo, explosión, auto explosión y efectos secundarios\\nDaños en la vivienda y lo que contenga producidos por el fuego, una \\nexplosión, la caída de un rayo y la acción del humo que se provoque ya tenga \\nsu origen en la propia vivienda o externo. Incluye los daños que ocasione el \\nhumo por escapes repentinos en cocinas, sistemas de calefacción y otros \\naparatos eléctricos.\\nTodos sabemos que estamos cubiertos en caso de incendio \\npero, ¿sabías también que lo estás si se produce una llamarada \\nde una sartén, quema la campana y mancha el techo de humo? \\nPagamos la reparación de la campana y la pintura del techo.', mimetype='text/plain', start_char_idx=0, end_char_idx=674, metadata_seperator='\\n', text_template='[Excerpt from document]\\n{metadata_str}\\nExcerpt:\\n-----\\n{content}\\n-----\\n'), score=0.846374163725565)], is_dummy_stream=False, metadata=None)"
      ]
     },
     "execution_count": 20,
     "metadata": {},
     "output_type": "execute_result"
    }
   ],
   "source": [
    "user_query = \"tengo alguna garantía que cubra los humos?\"\n",
    "\n",
    "response = agent2.chat(user_query)"
   ]
  },
  {
   "cell_type": "code",
   "execution_count": 21,
   "id": "7c515c2f",
   "metadata": {},
   "outputs": [
    {
     "data": {
      "text/plain": [
       "'Sí, hay garantías que cubren los daños ocasionados por humo. Estas garantías protegen tanto la vivienda como los bienes contenidos en ella, incluyendo los daños causados por humo que pueden resultar de incendios, explosiones o incluso incidentes menores, como una llamarada en la cocina. Esto significa que si el humo daña elementos como la campana extractora o el techo, los costos de reparación y restauración estarían cubiertos.'"
      ]
     },
     "execution_count": 21,
     "metadata": {},
     "output_type": "execute_result"
    }
   ],
   "source": [
    "response.response"
   ]
  },
  {
   "cell_type": "code",
   "execution_count": 22,
   "id": "943e9a62",
   "metadata": {},
   "outputs": [
    {
     "name": "stdout",
     "output_type": "stream",
     "text": [
      "> Running step 20420b90-8056-4879-8dd6-07393d7bd46d. Step input: enviame un mensaje por telegram que diga: INCREIBLE QUE UN LLM SEA CAPAZ DE USAR LA API DE TELGRAM\n",
      "\u001b[1;3;38;5;200mThought: The current language of the user is: Spanish. I need to use a tool to help me answer the question.\n",
      "Action: mensaje_por_telegram\n",
      "Action Input: {'mensaje': 'INCREIBLE QUE UN LLM SEA CAPAZ DE USAR LA API DE TELGRAM'}\n",
      "\u001b[0m\u001b[1;3;34mObservation: {\"ok\":true,\"result\":{\"message_id\":259,\"from\":{\"id\":1060305894,\"is_bot\":true,\"first_name\":\"\\ud83c\\udfc1script\",\"username\":\"edustratiobot\"},\"chat\":{\"id\":125821294,\"first_name\":\"Eduardo\",\"last_name\":\"FC\",\"type\":\"private\"},\"date\":1751702609,\"text\":\"INCREIBLE QUE UN LLM SEA CAPAZ DE USAR LA API DE TELGRAM\"}}\n",
      "\u001b[0m> Running step 8157696a-fb83-4dc9-884c-19102aaf66d4. Step input: None\n",
      "\u001b[1;3;38;5;200mThought: I can answer without using any more tools. I'll use the user's language to answer.\n",
      "Answer: El mensaje ha sido enviado correctamente a Telegram.\n",
      "\u001b[0m"
     ]
    }
   ],
   "source": [
    "user_query = \"enviame un mensaje por telegram que diga: INCREIBLE QUE UN LLM SEA CAPAZ DE USAR LA API DE TELGRAM\"\n",
    "\n",
    "response = agent2.chat(user_query)"
   ]
  },
  {
   "cell_type": "code",
   "execution_count": 23,
   "id": "81354a85",
   "metadata": {},
   "outputs": [
    {
     "data": {
      "text/plain": [
       "'El mensaje ha sido enviado correctamente a Telegram.'"
      ]
     },
     "execution_count": 23,
     "metadata": {},
     "output_type": "execute_result"
    }
   ],
   "source": [
    "response.response"
   ]
  },
  {
   "cell_type": "code",
   "execution_count": 26,
   "id": "abd40026",
   "metadata": {},
   "outputs": [
    {
     "name": "stdout",
     "output_type": "stream",
     "text": [
      "> Running step eee8c4ef-7afb-43f2-ba51-c80b042f675e. Step input: si tengo alguna garantía que cubra humos entre mis coberturas de hogar, envíamelas por Telegram\n",
      "\u001b[1;3;38;5;200mThought: Necesito verificar si tienes alguna garantía que cubra humos en tus coberturas de hogar antes de enviar un mensaje por Telegram.\n",
      "Action: Seguros\n",
      "Action Input: {'input': '¿Tengo alguna garantía que cubra humos en mis coberturas de hogar?'}\n",
      "\u001b[0m\u001b[1;3;34mObservation: Sí, hay garantías que cubren los daños ocasionados por humo en las coberturas de hogar. Estas garantías protegen contra los daños causados por humo debido a escapes repentinos en cocinas, sistemas de calefacción y otros aparatos eléctricos. Esto incluye la reparación de daños en la vivienda y sus contenidos, como por ejemplo, la reparación de una campana extractora dañada y la pintura del techo afectado por el humo.\n",
      "\u001b[0m> Running step f2d212d9-47b9-41e0-b5fa-5af9284d62c4. Step input: None\n",
      "\u001b[1;3;38;5;200mThought: Puedo enviar la información sobre las garantías que cubren humos a Telegram.\n",
      "Action: mensaje_por_telegram\n",
      "Action Input: {'mensaje': 'Sí, hay garantías que cubren los daños ocasionados por humo en las coberturas de hogar. Estas garantías protegen contra los daños causados por humo debido a escapes repentinos en cocinas, sistemas de calefacción y otros aparatos eléctricos. Esto incluye la reparación de daños en la vivienda y sus contenidos, como por ejemplo, la reparación de una campana extractora dañada y la pintura del techo afectado por el humo.'}\n",
      "\u001b[0m\u001b[1;3;34mObservation: {\"ok\":true,\"result\":{\"message_id\":261,\"from\":{\"id\":1060305894,\"is_bot\":true,\"first_name\":\"\\ud83c\\udfc1script\",\"username\":\"edustratiobot\"},\"chat\":{\"id\":125821294,\"first_name\":\"Eduardo\",\"last_name\":\"FC\",\"type\":\"private\"},\"date\":1751702788,\"text\":\"S\\u00ed, hay garant\\u00edas que cubren los da\\u00f1os ocasionados por humo en las coberturas de hogar. Estas garant\\u00edas protegen contra los da\\u00f1os causados por humo debido a escapes repentinos en cocinas, sistemas de calefacci\\u00f3n y otros aparatos el\\u00e9ctricos. Esto incluye la reparaci\\u00f3n de da\\u00f1os en la vivienda y sus contenidos, como por ejemplo, la reparaci\\u00f3n de una campana extractora da\\u00f1ada y la pintura del techo afectado por el humo.\"}}\n",
      "\u001b[0m> Running step f791fcf5-adde-4611-9d4b-8c8cde5b17d2. Step input: None\n",
      "\u001b[1;3;38;5;200mThought: He enviado la información sobre las garantías que cubren humos a tu Telegram.\n",
      "Answer: La información ha sido enviada correctamente. Si necesitas algo más, no dudes en preguntar.\n",
      "\u001b[0m"
     ]
    }
   ],
   "source": [
    "user_query = \"si tengo alguna garantía que cubra humos entre mis coberturas de hogar, envíamelas por Telegram\"\n",
    "\n",
    "response = agent2.chat(user_query)"
   ]
  },
  {
   "cell_type": "code",
   "execution_count": 27,
   "id": "444b5411",
   "metadata": {},
   "outputs": [
    {
     "data": {
      "text/plain": [
       "'La información ha sido enviada correctamente. Si necesitas algo más, no dudes en preguntar.'"
      ]
     },
     "execution_count": 27,
     "metadata": {},
     "output_type": "execute_result"
    }
   ],
   "source": [
    "response.response"
   ]
  },
  {
   "cell_type": "markdown",
   "id": "1fb4954d",
   "metadata": {},
   "source": [
    "# OpenAI agent"
   ]
  },
  {
   "cell_type": "code",
   "execution_count": 28,
   "id": "0465633a",
   "metadata": {},
   "outputs": [],
   "source": [
    "from llama_index.agent.openai import OpenAIAgent\n",
    "\n",
    "agent_openai = OpenAIAgent.from_tools(\n",
    "    [telegram_tool], verbose=True\n",
    ")"
   ]
  },
  {
   "cell_type": "code",
   "execution_count": 29,
   "id": "a61fed02",
   "metadata": {},
   "outputs": [
    {
     "name": "stdout",
     "output_type": "stream",
     "text": [
      "Added user message to memory: si tengo alguna garantía que cubra humos entre mis coberturas de hogar, envíamelas por Telegram\n",
      "=== Calling Function ===\n",
      "Calling function: mensaje_por_telegram with args: {\"mensaje\":\"Para verificar si tienes alguna garantía que cubra humos entre tus coberturas de hogar, es necesario que consultes directamente con tu compañía de seguros o revises tu póliza. Las coberturas pueden variar según la aseguradora y el tipo de póliza que tengas.\"}\n",
      "Got output: {\"ok\":true,\"result\":{\"message_id\":262,\"from\":{\"id\":1060305894,\"is_bot\":true,\"first_name\":\"\\ud83c\\udfc1script\",\"username\":\"edustratiobot\"},\"chat\":{\"id\":125821294,\"first_name\":\"Eduardo\",\"last_name\":\"FC\",\"type\":\"private\"},\"date\":1751702987,\"text\":\"Para verificar si tienes alguna garant\\u00eda que cubra humos entre tus coberturas de hogar, es necesario que consultes directamente con tu compa\\u00f1\\u00eda de seguros o revises tu p\\u00f3liza. Las coberturas pueden variar seg\\u00fan la aseguradora y el tipo de p\\u00f3liza que tengas.\"}}\n",
      "========================\n",
      "\n"
     ]
    },
    {
     "data": {
      "text/plain": [
       "AgentChatResponse(response='He enviado un mensaje a tu Telegram informándote que para verificar si tienes alguna garantía que cubra humos entre tus coberturas de hogar, es necesario que consultes directamente con tu compañía de seguros o revises tu póliza. Las coberturas pueden variar según la aseguradora y el tipo de póliza que tengas.', sources=[ToolOutput(content='{\"ok\":true,\"result\":{\"message_id\":262,\"from\":{\"id\":1060305894,\"is_bot\":true,\"first_name\":\"\\\\ud83c\\\\udfc1script\",\"username\":\"edustratiobot\"},\"chat\":{\"id\":125821294,\"first_name\":\"Eduardo\",\"last_name\":\"FC\",\"type\":\"private\"},\"date\":1751702987,\"text\":\"Para verificar si tienes alguna garant\\\\u00eda que cubra humos entre tus coberturas de hogar, es necesario que consultes directamente con tu compa\\\\u00f1\\\\u00eda de seguros o revises tu p\\\\u00f3liza. Las coberturas pueden variar seg\\\\u00fan la aseguradora y el tipo de p\\\\u00f3liza que tengas.\"}}', tool_name='mensaje_por_telegram', raw_input={'args': (), 'kwargs': {'mensaje': 'Para verificar si tienes alguna garantía que cubra humos entre tus coberturas de hogar, es necesario que consultes directamente con tu compañía de seguros o revises tu póliza. Las coberturas pueden variar según la aseguradora y el tipo de póliza que tengas.'}}, raw_output='{\"ok\":true,\"result\":{\"message_id\":262,\"from\":{\"id\":1060305894,\"is_bot\":true,\"first_name\":\"\\\\ud83c\\\\udfc1script\",\"username\":\"edustratiobot\"},\"chat\":{\"id\":125821294,\"first_name\":\"Eduardo\",\"last_name\":\"FC\",\"type\":\"private\"},\"date\":1751702987,\"text\":\"Para verificar si tienes alguna garant\\\\u00eda que cubra humos entre tus coberturas de hogar, es necesario que consultes directamente con tu compa\\\\u00f1\\\\u00eda de seguros o revises tu p\\\\u00f3liza. Las coberturas pueden variar seg\\\\u00fan la aseguradora y el tipo de p\\\\u00f3liza que tengas.\"}}', is_error=False)], source_nodes=[], is_dummy_stream=False, metadata=None)"
      ]
     },
     "execution_count": 29,
     "metadata": {},
     "output_type": "execute_result"
    }
   ],
   "source": [
    "response = agent_openai.chat(user_query)\n",
    "response"
   ]
  },
  {
   "cell_type": "code",
   "execution_count": null,
   "id": "67c5d6d8",
   "metadata": {},
   "outputs": [],
   "source": []
  },
  {
   "cell_type": "code",
   "execution_count": null,
   "id": "fe2e5dae",
   "metadata": {},
   "outputs": [],
   "source": []
  }
 ],
 "metadata": {
  "kernelspec": {
   "display_name": "Python 3 (ipykernel)",
   "language": "python",
   "name": "python3"
  },
  "language_info": {
   "codemirror_mode": {
    "name": "ipython",
    "version": 3
   },
   "file_extension": ".py",
   "mimetype": "text/x-python",
   "name": "python",
   "nbconvert_exporter": "python",
   "pygments_lexer": "ipython3",
   "version": "3.11.9"
  }
 },
 "nbformat": 4,
 "nbformat_minor": 5
}
