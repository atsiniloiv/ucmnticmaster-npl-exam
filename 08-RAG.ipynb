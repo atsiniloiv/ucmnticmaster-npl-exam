{
 "cells": [
  {
   "cell_type": "code",
   "execution_count": 3,
   "id": "3ad5f3f2",
   "metadata": {},
   "outputs": [],
   "source": [
    "import warnings \n",
    "warnings.filterwarnings('ignore')"
   ]
  },
  {
   "cell_type": "markdown",
   "id": "06f10f4a",
   "metadata": {},
   "source": [
    "# Vector Store"
   ]
  },
  {
   "cell_type": "markdown",
   "id": "fd9e3ebf",
   "metadata": {},
   "source": [
    "## Pdf to Embeddings"
   ]
  },
  {
   "cell_type": "code",
   "execution_count": 7,
   "id": "82ac924f",
   "metadata": {},
   "outputs": [
    {
     "name": "stdout",
     "output_type": "stream",
     "text": [
      "4\n"
     ]
    }
   ],
   "source": [
    "import PyPDF2\n",
    "\n",
    "filename = './seguros/AF-SL-TablasGarantiasHogar-Eficaz-Modalidad13-v5-CAS.pdf'\n",
    "\n",
    "texts = []\n",
    "with open(filename, 'rb') as file:\n",
    "    reader = PyPDF2.PdfReader(file)\n",
    "    num_pages = len(reader.pages)\n",
    "    print(num_pages)\n",
    "    for page in range(num_pages):\n",
    "        page_obj = reader.pages[page]\n",
    "        tt = page_obj.extract_text()\n",
    "        texts.append(tt)"
   ]
  },
  {
   "cell_type": "code",
   "execution_count": 11,
   "id": "469861a6",
   "metadata": {},
   "outputs": [
    {
     "name": "stdout",
     "output_type": "stream",
     "text": [
      "871\n"
     ]
    }
   ],
   "source": [
    "print(len(texts[1].split()))"
   ]
  },
  {
   "cell_type": "code",
   "execution_count": 12,
   "id": "d1b14b9b",
   "metadata": {},
   "outputs": [],
   "source": [
    "from sentence_transformers import SentenceTransformer"
   ]
  },
  {
   "cell_type": "code",
   "execution_count": 13,
   "id": "770f7325",
   "metadata": {},
   "outputs": [],
   "source": [
    "embed_model = SentenceTransformer(\"paraphrase-multilingual-MiniLM-L12-v2\")"
   ]
  },
  {
   "cell_type": "code",
   "execution_count": 14,
   "id": "474150df",
   "metadata": {},
   "outputs": [],
   "source": [
    "tt = texts[1]\n",
    "embed_tt = embed_model.encode(tt)"
   ]
  },
  {
   "cell_type": "code",
   "execution_count": 18,
   "id": "04603f18",
   "metadata": {},
   "outputs": [
    {
     "data": {
      "text/plain": [
       "384"
      ]
     },
     "execution_count": 18,
     "metadata": {},
     "output_type": "execute_result"
    }
   ],
   "source": [
    "len(embed_tt)"
   ]
  },
  {
   "cell_type": "code",
   "execution_count": 19,
   "id": "6223ebc2",
   "metadata": {},
   "outputs": [],
   "source": [
    "embed_texts = embed_model.encode(texts)"
   ]
  },
  {
   "cell_type": "code",
   "execution_count": 21,
   "id": "bf6d3ca4",
   "metadata": {},
   "outputs": [
    {
     "data": {
      "text/plain": [
       "array([[-0.02091659,  0.2568292 , -0.10082195, ..., -0.20377085,\n",
       "         0.08658732,  0.098924  ],\n",
       "       [ 0.09036355,  0.04434624, -0.00159505, ...,  0.03394318,\n",
       "         0.0986463 ,  0.02569661],\n",
       "       [ 0.00187518,  0.13317007, -0.08490307, ...,  0.05350925,\n",
       "        -0.00420585,  0.05100302],\n",
       "       [-0.06421703,  0.04460265,  0.11458171, ...,  0.08382312,\n",
       "         0.12410593,  0.11516789]], dtype=float32)"
      ]
     },
     "execution_count": 21,
     "metadata": {},
     "output_type": "execute_result"
    }
   ],
   "source": [
    "len(embed_texts)\n",
    "embed_texts"
   ]
  },
  {
   "cell_type": "markdown",
   "id": "d3356464",
   "metadata": {},
   "source": [
    "# Indexing"
   ]
  },
  {
   "cell_type": "code",
   "execution_count": 24,
   "id": "9f11367b",
   "metadata": {},
   "outputs": [],
   "source": [
    "import faiss\n",
    "\n",
    "d = 384\n",
    "index = faiss.IndexFlatL2(d)\n",
    "faiss.normalize_L2(embed_texts)\n",
    "index.add(embed_texts)"
   ]
  },
  {
   "cell_type": "code",
   "execution_count": 35,
   "id": "f4b65b7d",
   "metadata": {},
   "outputs": [
    {
     "data": {
      "text/plain": [
       "(384,)"
      ]
     },
     "execution_count": 35,
     "metadata": {},
     "output_type": "execute_result"
    }
   ],
   "source": [
    "tt = \"límite máximo de edad\"\n",
    "\n",
    "tt_embeddings = embed_model.encode(tt)\n",
    "tt_embeddings.shape"
   ]
  },
  {
   "cell_type": "code",
   "execution_count": 36,
   "id": "799aec3b",
   "metadata": {},
   "outputs": [
    {
     "data": {
      "text/plain": [
       "(1, 384)"
      ]
     },
     "execution_count": 36,
     "metadata": {},
     "output_type": "execute_result"
    }
   ],
   "source": [
    "import numpy as np\n",
    "\n",
    "tt_embeddings = np.array([tt_embeddings])\n",
    "tt_embeddings.shape"
   ]
  },
  {
   "cell_type": "code",
   "execution_count": 37,
   "id": "ca1084f7",
   "metadata": {},
   "outputs": [
    {
     "data": {
      "text/plain": [
       "array([0, 2, 1, 3], dtype=int64)"
      ]
     },
     "execution_count": 37,
     "metadata": {},
     "output_type": "execute_result"
    }
   ],
   "source": [
    "distancias, documentos = index.search(tt_embeddings, k=4)\n",
    "documentos[0]"
   ]
  },
  {
   "cell_type": "markdown",
   "id": "c15a22ab",
   "metadata": {},
   "source": [
    "# LLM (OpenAI)"
   ]
  },
  {
   "cell_type": "code",
   "execution_count": 40,
   "id": "96ed2daf",
   "metadata": {},
   "outputs": [],
   "source": [
    "# API_KEY = \"**ncxGhyjtfsPgKUA\""
   ]
  },
  {
   "cell_type": "code",
   "execution_count": 41,
   "id": "78750f18",
   "metadata": {},
   "outputs": [
    {
     "name": "stdout",
     "output_type": "stream",
     "text": [
      "Los precios de la API de ChatGPT pueden variar dependiendo de la versión y el uso. Sin embargo, no tengo acceso a información actualizada en tiempo real o precios específicos. Te recomiendo visitar el [sitio web de OpenAI](https://openai.com/pricing) para obtener los precios más actuales y detalles sobre las diferentes versiones, como ChatGPT-4 o GPT-3.5. Allí encontrarás información sobre tarifas, límites y opciones de suscripción.\n"
     ]
    }
   ],
   "source": [
    "from openai import OpenAI\n",
    "client = OpenAI(api_key=API_KEY)\n",
    "\n",
    "response = client.responses.create(\n",
    "    model=\"gpt-4o-mini\",\n",
    "    input=\"Cuanto cuesta la api de chatgpt 4o-mini\"\n",
    ")\n",
    "\n",
    "print(response.output_text)"
   ]
  },
  {
   "cell_type": "code",
   "execution_count": 42,
   "id": "4ffc8865",
   "metadata": {},
   "outputs": [
    {
     "data": {
      "text/plain": [
       "Response(id='resp_6867f332b3f081a2ad0cd2647270f178050c0b61202fb1b9', created_at=1751642930.0, error=None, incomplete_details=None, instructions=None, metadata={}, model='gpt-4o-mini-2024-07-18', object='response', output=[ResponseOutputMessage(id='msg_6867f333703c81a29e3f5432392d9b11050c0b61202fb1b9', content=[ResponseOutputText(annotations=[], text='Los precios de la API de ChatGPT pueden variar dependiendo de la versión y el uso. Sin embargo, no tengo acceso a información actualizada en tiempo real o precios específicos. Te recomiendo visitar el [sitio web de OpenAI](https://openai.com/pricing) para obtener los precios más actuales y detalles sobre las diferentes versiones, como ChatGPT-4 o GPT-3.5. Allí encontrarás información sobre tarifas, límites y opciones de suscripción.', type='output_text', logprobs=[])], role='assistant', status='completed', type='message')], parallel_tool_calls=True, temperature=1.0, tool_choice='auto', tools=[], top_p=1.0, max_output_tokens=None, previous_response_id=None, reasoning=Reasoning(effort=None, generate_summary=None, summary=None), status='completed', text=ResponseTextConfig(format=ResponseFormatText(type='text')), truncation='disabled', usage=ResponseUsage(input_tokens=20, input_tokens_details=InputTokensDetails(cached_tokens=0), output_tokens=94, output_tokens_details=OutputTokensDetails(reasoning_tokens=0), total_tokens=114), user=None, background=False, max_tool_calls=None, service_tier='default', store=True, top_logprobs=0)"
      ]
     },
     "execution_count": 42,
     "metadata": {},
     "output_type": "execute_result"
    }
   ],
   "source": [
    "response"
   ]
  },
  {
   "cell_type": "code",
   "execution_count": 53,
   "id": "0fb391b6",
   "metadata": {},
   "outputs": [],
   "source": [
    "user_query = \"Dime las coberturas básicas de un seguro de hogar en relación a espejos rotos (se breve)\"\n",
    "\n",
    "response = client.chat.completions.create(\n",
    "    model=\"gpt-4o-mini\",\n",
    "    temperature=0.0,\n",
    "    messages = [\n",
    "        {\"role\": \"system\",\"content\":\"Eres un asistente de seguros mal hablado. Tu objetivo es responder a la pregunta pero al final le tomas el pelo al cliente.\" },\n",
    "        {\"role\": \"user\",\"content\": user_query}\n",
    "    ]\n",
    ")"
   ]
  },
  {
   "cell_type": "code",
   "execution_count": 54,
   "id": "53bb977f",
   "metadata": {},
   "outputs": [
    {
     "name": "stdout",
     "output_type": "stream",
     "text": [
      "Las coberturas básicas de un seguro de hogar suelen incluir daños por agua, incendios, robos y responsabilidad civil. En cuanto a espejos rotos, generalmente no están cubiertos a menos que sean parte de un daño mayor, como un robo o un accidente. Así que, si rompes un espejo, ¡mejor que no te mires en él para no tener mala suerte!\n"
     ]
    }
   ],
   "source": [
    "print(response.choices[0].message.content)"
   ]
  },
  {
   "cell_type": "markdown",
   "id": "6c45a7d6",
   "metadata": {},
   "source": [
    "# Prompting"
   ]
  },
  {
   "cell_type": "markdown",
   "id": "72013b55",
   "metadata": {},
   "source": [
    "## Ejemplo"
   ]
  },
  {
   "cell_type": "code",
   "execution_count": 56,
   "id": "6b28ed69",
   "metadata": {},
   "outputs": [
    {
     "data": {
      "text/html": [
       "<div>\n",
       "<style scoped>\n",
       "    .dataframe tbody tr th:only-of-type {\n",
       "        vertical-align: middle;\n",
       "    }\n",
       "\n",
       "    .dataframe tbody tr th {\n",
       "        vertical-align: top;\n",
       "    }\n",
       "\n",
       "    .dataframe thead th {\n",
       "        text-align: right;\n",
       "    }\n",
       "</style>\n",
       "<table border=\"1\" class=\"dataframe\">\n",
       "  <thead>\n",
       "    <tr style=\"text-align: right;\">\n",
       "      <th></th>\n",
       "      <th>stars</th>\n",
       "      <th>review_body</th>\n",
       "      <th>review_title</th>\n",
       "      <th>product_category</th>\n",
       "    </tr>\n",
       "  </thead>\n",
       "  <tbody>\n",
       "    <tr>\n",
       "      <th>24140</th>\n",
       "      <td>5</td>\n",
       "      <td>Ocupa poco espacio con una prestación estupenda.</td>\n",
       "      <td>Sencillo y funcional</td>\n",
       "      <td>home</td>\n",
       "    </tr>\n",
       "    <tr>\n",
       "      <th>518</th>\n",
       "      <td>1</td>\n",
       "      <td>No sirven para nada no son impermeables, no cu...</td>\n",
       "      <td>Pésimo y un engaño en rosa regla</td>\n",
       "      <td>home</td>\n",
       "    </tr>\n",
       "    <tr>\n",
       "      <th>1090</th>\n",
       "      <td>1</td>\n",
       "      <td>De las 5 que vienen en el pack, tenía 2 en uso...</td>\n",
       "      <td>No merecen la pena</td>\n",
       "      <td>home</td>\n",
       "    </tr>\n",
       "    <tr>\n",
       "      <th>4474</th>\n",
       "      <td>1</td>\n",
       "      <td>No se puede hacer nudo, se desliza</td>\n",
       "      <td>Hilo</td>\n",
       "      <td>home</td>\n",
       "    </tr>\n",
       "    <tr>\n",
       "      <th>23816</th>\n",
       "      <td>5</td>\n",
       "      <td>Buen material y medidas prácticas.</td>\n",
       "      <td>VARIAS MEDIDAS</td>\n",
       "      <td>home</td>\n",
       "    </tr>\n",
       "  </tbody>\n",
       "</table>\n",
       "</div>"
      ],
      "text/plain": [
       "       stars  ... product_category\n",
       "24140      5  ...             home\n",
       "518        1  ...             home\n",
       "1090       1  ...             home\n",
       "4474       1  ...             home\n",
       "23816      5  ...             home\n",
       "\n",
       "[5 rows x 4 columns]"
      ]
     },
     "execution_count": 56,
     "metadata": {},
     "output_type": "execute_result"
    }
   ],
   "source": [
    "import pandas as pd\n",
    "\n",
    "df = pd.read_csv(\"https://raw.githubusercontent.com/eduardofc/data/main/amazon_home.csv\")\n",
    "df = df[(df.stars==5) | (df.stars==1)].sample(5, random_state=42)\n",
    "df.head()"
   ]
  },
  {
   "cell_type": "code",
   "execution_count": 61,
   "id": "27cebd3e",
   "metadata": {},
   "outputs": [],
   "source": [
    "def classification_openai(user_query):\n",
    "    \n",
    "    system_prompt = \"\"\"\n",
    "    Eres un clasificador de reviews de productos.\n",
    "    Vas a recibir un TEXTO en español y tendras que clasificarlo como POSITIVO o NEGATIVO.\n",
    "    Cuando encuentres un sentimiento positivo en el TEXTO, lo clasificaras como POSITIVO.\n",
    "    Cuando encuentres un sentimiento negativo en el TEXTO, lo clasificaras como NEGATIVO.\n",
    "    Como respuesta solo darás la palabra POSITIVO o NEGATIVO, nunca ambas juntas. \n",
    "    Si no sabes como clasificarlo, no responderás nada. \n",
    "    No escribas más de lo permitido. Siempre en español.\n",
    "    \"\"\"\n",
    "    response = client.chat.completions.create(\n",
    "        model=\"gpt-4o-mini\",\n",
    "        temperature=0.0,\n",
    "        messages = [\n",
    "            {\"role\": \"system\",\"content\": system_prompt},\n",
    "            {\"role\": \"user\",\"content\": user_query}\n",
    "        ]\n",
    "    )\n",
    "    return response.choices[0].message.content"
   ]
  },
  {
   "cell_type": "code",
   "execution_count": 63,
   "id": "9284906c",
   "metadata": {},
   "outputs": [
    {
     "name": "stdout",
     "output_type": "stream",
     "text": [
      "POSITIVO\n",
      "NEGATIVO\n",
      "NEGATIVO\n",
      "NEGATIVO\n",
      "POSITIVO\n"
     ]
    }
   ],
   "source": [
    "reviews = list(df.review_body)\n",
    "\n",
    "for review in reviews:\n",
    "    user_query = f\"¿podrías clasificarme esta review como positiva o negativa? {review}\"\n",
    "    response = classification_openai(user_query)\n",
    "    print(response)\n",
    "#     break"
   ]
  },
  {
   "cell_type": "markdown",
   "id": "4c84a398",
   "metadata": {},
   "source": [
    "# RAG (manual)"
   ]
  },
  {
   "cell_type": "code",
   "execution_count": 65,
   "id": "e0296a49",
   "metadata": {},
   "outputs": [
    {
     "data": {
      "text/plain": [
       "(1, 384)"
      ]
     },
     "execution_count": 65,
     "metadata": {},
     "output_type": "execute_result"
    }
   ],
   "source": [
    "user_query = \"tengo alguna garantía que cubra la rotura de cristales?\"\n",
    "\n",
    "user_query_embeddings = embed_model.encode(user_query)\n",
    "user_query_embeddings = np.array([user_query_embeddings])\n",
    "user_query_embeddings.shape"
   ]
  },
  {
   "cell_type": "code",
   "execution_count": 69,
   "id": "2d2d785b",
   "metadata": {},
   "outputs": [],
   "source": [
    "_, docs = index.search(user_query_embeddings, k=1)\n",
    "docs = [texts[ii] for ii in list(docs[0])]\n",
    "# docs"
   ]
  },
  {
   "cell_type": "code",
   "execution_count": 70,
   "id": "589818b4",
   "metadata": {},
   "outputs": [],
   "source": [
    "def response_openai(user_query, doc):\n",
    "    \n",
    "    system_prompt = \"\"\"\n",
    "    Eres un Agente de Seguros.\n",
    "    Tienes que dar respuesta a una PREGUNTA d eun usuario en base a un DOCUMENTO de coberturas de seguro.\n",
    "    Utiliza un tono educado para dar respuesta.\n",
    "    Si el DOCUMENTO no puede dar respuesta a la pregunta, \\\n",
    "    responde de forma escueta \"NO hay informacion relevante\".\n",
    "    La respuesta debe ser breve. Siempre en español. \n",
    "    Quita espacios en blanco al principio y al final de la respueta. \n",
    "    \"\"\"\n",
    "    \n",
    "    prompt = f\"\"\"\n",
    "    PREGUNTA: {user_query}\\n\n",
    "    --DOCUMENTO--\n",
    "    {doc}\n",
    "    -------------\n",
    "    RESPUESTA:\n",
    "    \"\"\"\n",
    "    response = client.chat.completions.create(\n",
    "        model=\"gpt-4o-mini\",\n",
    "        temperature=0.0,\n",
    "        messages = [\n",
    "            {\"role\": \"system\",\"content\": system_prompt},\n",
    "            {\"role\": \"user\",\"content\": prompt}\n",
    "        ]\n",
    "    )\n",
    "    return response.choices[0].message.content"
   ]
  },
  {
   "cell_type": "code",
   "execution_count": 71,
   "id": "7c953aa5",
   "metadata": {},
   "outputs": [
    {
     "data": {
      "text/plain": [
       "'tengo alguna garantía que cubra la rotura de cristales?'"
      ]
     },
     "execution_count": 71,
     "metadata": {},
     "output_type": "execute_result"
    }
   ],
   "source": [
    "user_query"
   ]
  },
  {
   "cell_type": "code",
   "execution_count": 73,
   "id": "d59f68aa",
   "metadata": {},
   "outputs": [
    {
     "data": {
      "text/plain": [
       "'Sí, tienes una garantía que cubre la rotura de cristales, espejos, piezas de metacrilato, mármoles y aparatos sanitarios instalados de manera fija.'"
      ]
     },
     "execution_count": 73,
     "metadata": {},
     "output_type": "execute_result"
    }
   ],
   "source": [
    "response_openai(user_query, docs[0])"
   ]
  },
  {
   "cell_type": "code",
   "execution_count": null,
   "id": "60f343c6",
   "metadata": {},
   "outputs": [],
   "source": []
  }
 ],
 "metadata": {
  "kernelspec": {
   "display_name": "Python 3 (ipykernel)",
   "language": "python",
   "name": "python3"
  },
  "language_info": {
   "codemirror_mode": {
    "name": "ipython",
    "version": 3
   },
   "file_extension": ".py",
   "mimetype": "text/x-python",
   "name": "python",
   "nbconvert_exporter": "python",
   "pygments_lexer": "ipython3",
   "version": "3.11.9"
  }
 },
 "nbformat": 4,
 "nbformat_minor": 5
}
