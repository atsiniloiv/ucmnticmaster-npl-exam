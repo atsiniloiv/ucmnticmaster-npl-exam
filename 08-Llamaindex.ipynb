{
 "cells": [
  {
   "cell_type": "markdown",
   "id": "521c242a",
   "metadata": {},
   "source": [
    "# Configuración"
   ]
  },
  {
   "cell_type": "code",
   "execution_count": 3,
   "id": "045fa18a",
   "metadata": {},
   "outputs": [],
   "source": [
    "# API_KEY = \"sk-proj-***-jaB6O2LeSsrQ1YQA\""
   ]
  },
  {
   "cell_type": "code",
   "execution_count": 7,
   "id": "85634c30",
   "metadata": {},
   "outputs": [],
   "source": [
    "from llama_index.core import Settings\n",
    "from llama_index.llms.openai import OpenAI\n",
    "from llama_index.embeddings.openai import OpenAIEmbedding\n",
    "\n",
    "\n",
    "llm_model = OpenAI(\n",
    "    model=\"gpt-4o-mini\",\n",
    "    api_key=API_KEY\n",
    ")\n",
    "\n",
    "embed_model = OpenAIEmbedding(\n",
    "    model=\"text-embedding-ada-002\",\n",
    "    api_key=API_KEY\n",
    ")\n",
    "\n",
    "\n",
    "Settings.llm = llm_model\n",
    "Settings.embed_model = embed_model"
   ]
  },
  {
   "cell_type": "markdown",
   "id": "45732d90",
   "metadata": {},
   "source": [
    "# RAG con pocas líneas"
   ]
  },
  {
   "cell_type": "code",
   "execution_count": 8,
   "id": "c2f7282a",
   "metadata": {},
   "outputs": [],
   "source": [
    "from llama_index.core import SimpleDirectoryReader\n",
    "\n",
    "documents = SimpleDirectoryReader(\"seguros\").load_data()"
   ]
  },
  {
   "cell_type": "code",
   "execution_count": 10,
   "id": "f28386e3",
   "metadata": {},
   "outputs": [
    {
     "data": {
      "text/plain": [
       "17"
      ]
     },
     "execution_count": 10,
     "metadata": {},
     "output_type": "execute_result"
    }
   ],
   "source": [
    "len(documents)"
   ]
  },
  {
   "cell_type": "code",
   "execution_count": 13,
   "id": "e5e6ccd7",
   "metadata": {},
   "outputs": [],
   "source": [
    "# documents[1]"
   ]
  },
  {
   "cell_type": "code",
   "execution_count": 14,
   "id": "02831b02",
   "metadata": {},
   "outputs": [],
   "source": [
    "from llama_index.core import VectorStoreIndex\n",
    "\n",
    "index = VectorStoreIndex.from_documents(documents)"
   ]
  },
  {
   "cell_type": "code",
   "execution_count": 15,
   "id": "ea55d412",
   "metadata": {},
   "outputs": [],
   "source": [
    "query_engine = index.as_query_engine()"
   ]
  },
  {
   "cell_type": "code",
   "execution_count": 16,
   "id": "26b0cf22",
   "metadata": {},
   "outputs": [],
   "source": [
    "response = query_engine.query(\"¿Cuál es la protección jurídica del seguro de hogar?\")"
   ]
  },
  {
   "cell_type": "code",
   "execution_count": 18,
   "id": "1599a04d",
   "metadata": {},
   "outputs": [
    {
     "data": {
      "text/plain": [
       "'La protección jurídica del seguro de hogar incluye asesoramiento telefónico ilimitado y defensa en reclamaciones derivadas del contrato de alquiler. También se ofrece asistencia para la obtención de documentación y servicios jurídicos y extrajudiciales, excepto en procedimientos de desahucio si se ha dejado de pagar el alquiler.'"
      ]
     },
     "execution_count": 18,
     "metadata": {},
     "output_type": "execute_result"
    }
   ],
   "source": [
    "response.response"
   ]
  },
  {
   "cell_type": "code",
   "execution_count": 21,
   "id": "5e59017d",
   "metadata": {},
   "outputs": [
    {
     "data": {
      "text/plain": [
       "2"
      ]
     },
     "execution_count": 21,
     "metadata": {},
     "output_type": "execute_result"
    }
   ],
   "source": [
    "len(response.source_nodes)"
   ]
  },
  {
   "cell_type": "code",
   "execution_count": 22,
   "id": "9ff6f7fd",
   "metadata": {},
   "outputs": [
    {
     "data": {
      "text/plain": [
       "{'0fc05f59-2cf7-4b4e-9494-fd7917e80663': {'page_label': '6',\n",
       "  'file_name': 'AF-SL-TablasGarantiasHogar-Completo-Modalidad14-v11-CAS.pdf',\n",
       "  'file_path': 'C:\\\\Users\\\\efclprd\\\\Desktop\\\\nlp\\\\seguros\\\\AF-SL-TablasGarantiasHogar-Completo-Modalidad14-v11-CAS.pdf',\n",
       "  'file_type': 'application/pdf',\n",
       "  'file_size': 96118,\n",
       "  'creation_date': '2025-07-04',\n",
       "  'last_modified_date': '2025-07-04'},\n",
       " '03cd006a-22f7-47ff-a748-2ddf6eaec9f3': {'page_label': '7',\n",
       "  'file_name': 'AF-SL-TablasGarantiasHogar-Premium-Modalidad15-v13-CAS.pdf',\n",
       "  'file_path': 'C:\\\\Users\\\\efclprd\\\\Desktop\\\\nlp\\\\seguros\\\\AF-SL-TablasGarantiasHogar-Premium-Modalidad15-v13-CAS.pdf',\n",
       "  'file_type': 'application/pdf',\n",
       "  'file_size': 101016,\n",
       "  'creation_date': '2025-07-04',\n",
       "  'last_modified_date': '2025-07-04'}}"
      ]
     },
     "execution_count": 22,
     "metadata": {},
     "output_type": "execute_result"
    }
   ],
   "source": [
    "response.metadata"
   ]
  },
  {
   "cell_type": "markdown",
   "id": "d80bca8c",
   "metadata": {},
   "source": [
    "# Evaluation (LLM-as-a-judge)"
   ]
  },
  {
   "cell_type": "code",
   "execution_count": 29,
   "id": "e69be234",
   "metadata": {},
   "outputs": [],
   "source": [
    "from openai import OpenAI\n",
    "# API_KEY = \"sk-proj-f***-jaB6O2LeSsrQ1YQA\"\n",
    "client = OpenAI(api_key=API_KEY)"
   ]
  },
  {
   "cell_type": "code",
   "execution_count": 30,
   "id": "b86f8f68",
   "metadata": {},
   "outputs": [],
   "source": [
    "gt_q = [\n",
    "     \"tengo alguna garantía que cubra los humos?\",\n",
    "\"qué seguros de hogar cubren las placas solares?\",\n",
    "\"la vitrocerámica está incluida en alguna modalidad del seguro?\"\n",
    "]"
   ]
  },
  {
   "cell_type": "code",
   "execution_count": 31,
   "id": "225f2ae4",
   "metadata": {},
   "outputs": [],
   "source": [
    "gt_a = [\n",
    "      \"Sí, las modalidades de los seguros Hogar Completo, Hogar Eficaz y Hogar Premium incluyen la cobertura de daños ocasionados por humo, ya sea por escapes repentinos en cocinas, sistemas de calefacción u otros aparatos eléctricos.\",\n",
    "\"La modalidad Hogar Completo cubre el robo de placas solares en cubiertas de viviendas unifamiliares hasta 3.000 € por incidente. En la modalidad Hogar Premium, la cobertura para el robo de placas solares se amplía hasta 5.000 € por incidente.\",\n",
    "\"Sí, las modalidades Hogar Completo y Hogar Premium cubren la rotura accidental de elementos vitrocerámicos de cocina, incluyendo la reposición de la placa o cristal.\"\n",
    "\n",
    "]"
   ]
  },
  {
   "cell_type": "code",
   "execution_count": 32,
   "id": "5bf83128",
   "metadata": {},
   "outputs": [
    {
     "name": "stdout",
     "output_type": "stream",
     "text": [
      "No se menciona específicamente una garantía que cubra los daños por humos en la información proporcionada. Sin embargo, se incluyen coberturas para daños por incendio, explosión o daños por agua, que podrían ser relevantes dependiendo de la situación. Es recomendable revisar los términos y condiciones específicos del seguro para obtener detalles sobre las coberturas disponibles.\n",
      "**************************************************\n",
      "Los seguros de hogar que cubren las placas solares indemnizan en caso de robo de las mismas, con una cobertura de hasta 5.000 € por incidente y anualidad de seguro.\n",
      "**************************************************\n",
      "La vitrocerámica no se menciona específicamente en las garantías opcionales descritas. Sin embargo, si se produce un daño en la vitrocerámica debido a un incidente cubierto por el seguro, podría estar incluida en la cobertura de daños producidos por la electricidad o en otras garantías relacionadas con daños a electrodomésticos. Es recomendable revisar los detalles específicos de la póliza para confirmar su inclusión.\n",
      "**************************************************\n"
     ]
    }
   ],
   "source": [
    "llm_a = []\n",
    "for qq in gt_q:\n",
    "    rr = query_engine.query(qq)\n",
    "    llm_a.append(rr.response)\n",
    "    print(rr.response)\n",
    "    print(\"*\"*50)"
   ]
  },
  {
   "cell_type": "code",
   "execution_count": 37,
   "id": "aacf6788",
   "metadata": {},
   "outputs": [],
   "source": [
    "def evalute_question(ga, llma):\n",
    "    \n",
    "    grading_prompt = f\"\"\"\n",
    "    Evalúa la calidad de la respuesta generada por el modelo LLM en comparación con \\\n",
    "    la respuesta de referencia (ground truth). \\\n",
    "    A continuación se presentan los criterios para la evaluación: \n",
    "    - **Score 1:** La respuesta del LLM es irrelevante o incorrecta en comparación con \\\n",
    "    la verdad de referencia (ground truth). \n",
    "    - **Score 2:** La respuesta del LLM es algo relacionada pero tiene errores significativos \\\n",
    "    o está incompleta en comparación con la verdad de referencia. \n",
    "    - **Score 3:** La respuesta del LLM es aceptable, pero carece de precisión o detalles \\\n",
    "    importantes en comparación con la verdad de referencia. \n",
    "    - **Score 4:** La respuesta del LLM es buena y responde adecuadamente, aunque hay detalles \\\n",
    "    que podrían mejorarse para alinearse más con la verdad de referencia. \n",
    "    - **Score 5:** La respuesta del LLM es excelente, clara, completa y tan precisa como la \\\n",
    "    verdad de referencia o incluso aporta detalles adicionales útiles. \n",
    "    \n",
    "    Proporciona un puntaje del 1 al 5. Asegurate de que solo respondes un valor entre el 1 y el 5. \n",
    "    \n",
    "    **Ground truth:** {ga}\n",
    "    \n",
    "    **Respuesta del LLM:** {llma} \n",
    "    \n",
    "    **Evaluación:** \n",
    "    \"\"\"\n",
    "    \n",
    "    completion = client.chat.completions.create(\n",
    "        model = 'gpt-4o',\n",
    "        messages=[\n",
    "            {\"role\": \"user\", \"content\": grading_prompt}\n",
    "        ]\n",
    "    )\n",
    "    \n",
    "    return completion.choices[0].message.content"
   ]
  },
  {
   "cell_type": "code",
   "execution_count": 42,
   "id": "e8c60c43",
   "metadata": {},
   "outputs": [
    {
     "name": "stdout",
     "output_type": "stream",
     "text": [
      "1\n",
      "2\n",
      "2\n"
     ]
    },
    {
     "data": {
      "text/plain": [
       "1.6666666666666667"
      ]
     },
     "execution_count": 42,
     "metadata": {},
     "output_type": "execute_result"
    }
   ],
   "source": [
    "import numpy as np\n",
    "\n",
    "scores = []\n",
    "for ga, llma, in zip(gt_a, llm_a):\n",
    "    rr = evalute_question(ga, llma)\n",
    "    print(rr)\n",
    "    scores.append(int(rr))\n",
    "np.mean(scores)"
   ]
  },
  {
   "cell_type": "markdown",
   "id": "9962a27a",
   "metadata": {},
   "source": [
    "# Mejoras"
   ]
  },
  {
   "cell_type": "code",
   "execution_count": 58,
   "id": "24acac1c",
   "metadata": {},
   "outputs": [],
   "source": [
    "import nest_asyncio\n",
    "nest_asyncio.apply()"
   ]
  },
  {
   "cell_type": "code",
   "execution_count": 73,
   "id": "013eb639",
   "metadata": {},
   "outputs": [],
   "source": [
    "from llama_index.core.node_parser import SentenceSplitter\n",
    "from llama_index.core.extractors import QuestionsAnsweredExtractor, SummaryExtractor\n",
    "\n",
    "text_splitter = SentenceSplitter(chunk_size=300, chunk_overlap=50)\n",
    "summ = SummaryExtractor(summaries=['self'])\n",
    "qa = QuestionsAnsweredExtractor(questions=2)"
   ]
  },
  {
   "cell_type": "code",
   "execution_count": 74,
   "id": "78f6034c",
   "metadata": {},
   "outputs": [
    {
     "data": {
      "text/plain": [
       "'Aquí está el contexto:\\n{context_str}\\n\\nDada la informacion contextual, genera {num_questions} y especifica el tipo de seguro Hogar Completo, Hogar Eficaz, Hogar Premium'"
      ]
     },
     "execution_count": 74,
     "metadata": {},
     "output_type": "execute_result"
    }
   ],
   "source": [
    "summ.prompt_template\n",
    "qa.prompt_template = \"Aquí está el contexto:\\n{context_str}\\n\\nDada la informacion contextual, genera {num_questions} y especifica el tipo de seguro Hogar Completo, Hogar Eficaz, Hogar Premium\"\n",
    "qa.prompt_template"
   ]
  },
  {
   "cell_type": "code",
   "execution_count": 75,
   "id": "09107d29",
   "metadata": {},
   "outputs": [],
   "source": [
    "from llama_index.core.ingestion import IngestionPipeline\n",
    "\n",
    "pipeline = IngestionPipeline(transformations=[\n",
    "    text_splitter,\n",
    "#     summ,\n",
    "    qa\n",
    "])"
   ]
  },
  {
   "cell_type": "code",
   "execution_count": 76,
   "id": "5b0cdc71",
   "metadata": {},
   "outputs": [
    {
     "name": "stderr",
     "output_type": "stream",
     "text": [
      "100%|██████████████████████████████████████████████████████████████| 105/105 [02:30<00:00,  1.43s/it]\n"
     ]
    }
   ],
   "source": [
    "nodes = pipeline.run(documents=documents)"
   ]
  },
  {
   "cell_type": "code",
   "execution_count": 77,
   "id": "2addefe3",
   "metadata": {},
   "outputs": [
    {
     "data": {
      "text/plain": [
       "105"
      ]
     },
     "execution_count": 77,
     "metadata": {},
     "output_type": "execute_result"
    }
   ],
   "source": [
    "len(nodes)"
   ]
  },
  {
   "cell_type": "code",
   "execution_count": 78,
   "id": "50cb1b8d",
   "metadata": {},
   "outputs": [],
   "source": [
    "# nodes[4]"
   ]
  },
  {
   "cell_type": "code",
   "execution_count": 79,
   "id": "ba5b9270",
   "metadata": {},
   "outputs": [
    {
     "data": {
      "text/plain": [
       "{'page_label': '2',\n",
       " 'file_name': 'AF-SL-TablasGarantiasHogar-Completo-Modalidad14-v11-CAS.pdf',\n",
       " 'file_path': 'C:\\\\Users\\\\efclprd\\\\Desktop\\\\nlp\\\\seguros\\\\AF-SL-TablasGarantiasHogar-Completo-Modalidad14-v11-CAS.pdf',\n",
       " 'file_type': 'application/pdf',\n",
       " 'file_size': 96118,\n",
       " 'creation_date': '2025-07-04',\n",
       " 'last_modified_date': '2025-07-04',\n",
       " 'questions_this_excerpt_can_answer': 'Con base en la información proporcionada, aquí tienes dos ejemplos de coberturas para diferentes tipos de seguros de hogar:\\n\\n1. **Seguro Hogar Completo**:\\n   - **Cobertura por Caída de Árboles, Postes y Antenas**: Este seguro cubre los daños que sufra la vivienda y sus contenidos debido a la caída de árboles, postes o antenas. Por ejemplo, si la antena de tu tejado se cae y daña la bicicleta en el jardín o el alfeizar de la ventana, la reparación de ambos estará asegurada. Sin embargo, la antena en sí no estará cubierta.\\n   - **Cobertura por Fenómenos Meteorológicos**: Los daños causados por viento, pedrisco o nieve están incluidos. Para que los daños por viento sean cubiertos, la velocidad debe superar los 80 km/h. En caso de daños a árboles, plantas y jardines, se aplicará un límite del 5% de la suma asegurada para el continente. Por ejemplo, si el granizo rompe las tejas de la cubierta o agujerea la tela del toldo, se cubrirá la reposición de estos elementos.\\n\\n2. **Seguro Hogar Premium**:\\n   - **Cobertura por Caída de Árboles, Postes y Antenas**: Al igual que en el seguro completo, este seguro también cubre los daños por la caída de árboles, postes o antenas. En este caso, se ofrece una mayor flexibilidad en la cobertura de la antena, permitiendo una compensación parcial en caso de daños.\\n   - **Cobertura por Fenómenos Meteorológicos**: Este seguro premium amplía la cobertura de daños por viento, pedrisco o nieve, eliminando el límite del 5% para daños a jardines y plantas, y asegurando la reposición de tejas y toldos sin restricciones adicionales, siempre que se cumplan las condiciones de velocidad del viento y otros fenómenos.\\n\\nEstos ejemplos ilustran cómo se pueden diferenciar las coberturas en función del tipo de seguro de hogar.'}"
      ]
     },
     "execution_count": 79,
     "metadata": {},
     "output_type": "execute_result"
    }
   ],
   "source": [
    "nodes[4].metadata"
   ]
  },
  {
   "cell_type": "code",
   "execution_count": 83,
   "id": "bdcad73f",
   "metadata": {},
   "outputs": [],
   "source": [
    "index = VectorStoreIndex(nodes)\n",
    "query_engine = index.as_query_engine(similarity_top_k=4)"
   ]
  },
  {
   "cell_type": "code",
   "execution_count": 84,
   "id": "6c44dbc2",
   "metadata": {},
   "outputs": [],
   "source": [
    "# genero nuevas respuestas\n",
    "\n",
    "llm_a = []\n",
    "for qq in gt_q:\n",
    "    rr = query_engine.query(qq)\n",
    "    llm_a.append(rr.response)\n",
    "#     print(rr.response)\n",
    "#     print(\"*\"*50)"
   ]
  },
  {
   "cell_type": "code",
   "execution_count": 85,
   "id": "2298f3a9",
   "metadata": {},
   "outputs": [
    {
     "name": "stdout",
     "output_type": "stream",
     "text": [
      "4\n",
      "5\n",
      "5\n"
     ]
    },
    {
     "data": {
      "text/plain": [
       "4.666666666666667"
      ]
     },
     "execution_count": 85,
     "metadata": {},
     "output_type": "execute_result"
    }
   ],
   "source": [
    "# evaluo\n",
    "\n",
    "scores = []\n",
    "for ga, llma, in zip(gt_a, llm_a):\n",
    "    rr = evalute_question(ga, llma)\n",
    "    print(rr)\n",
    "    scores.append(int(rr))\n",
    "np.mean(scores)"
   ]
  },
  {
   "cell_type": "code",
   "execution_count": 87,
   "id": "d2c971f8",
   "metadata": {},
   "outputs": [
    {
     "data": {
      "text/html": [
       "<div>\n",
       "<style scoped>\n",
       "    .dataframe tbody tr th:only-of-type {\n",
       "        vertical-align: middle;\n",
       "    }\n",
       "\n",
       "    .dataframe tbody tr th {\n",
       "        vertical-align: top;\n",
       "    }\n",
       "\n",
       "    .dataframe thead th {\n",
       "        text-align: right;\n",
       "    }\n",
       "</style>\n",
       "<table border=\"1\" class=\"dataframe\">\n",
       "  <thead>\n",
       "    <tr style=\"text-align: right;\">\n",
       "      <th></th>\n",
       "      <th>gt_question</th>\n",
       "      <th>gt_answer</th>\n",
       "      <th>rag_answer</th>\n",
       "      <th>score</th>\n",
       "    </tr>\n",
       "  </thead>\n",
       "  <tbody>\n",
       "    <tr>\n",
       "      <th>0</th>\n",
       "      <td>tengo alguna garantía que cubra los humos?</td>\n",
       "      <td>Sí, las modalidades de los seguros Hogar Completo, Hogar Eficaz y Hogar Premium incluyen la cobertura de daños ocasionados por humo, ya sea por escapes repentinos en cocinas, sistemas de calefacción u otros aparatos eléctricos.</td>\n",
       "      <td>Sí, hay garantías que cubren los daños ocasionados por humo. Estas garantías se activan en caso de escapes repentinos de humo en cocinas, sistemas de calefacción y otros aparatos eléctricos. Por ejemplo, si se produce una fuga de humo que ennegrece una pared, el seguro se encargará de los costos de limpieza y reparación.</td>\n",
       "      <td>4</td>\n",
       "    </tr>\n",
       "    <tr>\n",
       "      <th>1</th>\n",
       "      <td>qué seguros de hogar cubren las placas solares?</td>\n",
       "      <td>La modalidad Hogar Completo cubre el robo de placas solares en cubiertas de viviendas unifamiliares hasta 3.000 € por incidente. En la modalidad Hogar Premium, la cobertura para el robo de placas solares se amplía hasta 5.000 € por incidente.</td>\n",
       "      <td>Los seguros de hogar que cubren las placas solares incluyen el Seguro Hogar Completo y el Seguro Hogar Premium. Ambos ofrecen indemnización en caso de robo de placas solares ubicadas en la cubierta de la vivienda, garantizando hasta 3,000 € por incidente en el caso del Seguro Hogar Completo y hasta 5,000 € por incidente en el Seguro Hogar Premium.</td>\n",
       "      <td>5</td>\n",
       "    </tr>\n",
       "    <tr>\n",
       "      <th>2</th>\n",
       "      <td>la vitrocerámica está incluida en alguna modalidad del seguro?</td>\n",
       "      <td>Sí, las modalidades Hogar Completo y Hogar Premium cubren la rotura accidental de elementos vitrocerámicos de cocina, incluyendo la reposición de la placa o cristal.</td>\n",
       "      <td>Sí, la cobertura de la vitrocerámica está incluida en las modalidades de seguro \"Hogar Completo\" y \"Hogar Premium\". Ambas modalidades cubren la rotura accidental de la placa o cristal de la vitrocerámica, así como los gastos de reposición y colocación de un nuevo cristal en caso de que se rompa.</td>\n",
       "      <td>5</td>\n",
       "    </tr>\n",
       "  </tbody>\n",
       "</table>\n",
       "</div>"
      ],
      "text/plain": [
       "                                                      gt_question  \\\n",
       "0                      tengo alguna garantía que cubra los humos?   \n",
       "1                 qué seguros de hogar cubren las placas solares?   \n",
       "2  la vitrocerámica está incluida en alguna modalidad del seguro?   \n",
       "\n",
       "                                                                                                                                                                                                                                            gt_answer  \\\n",
       "0                 Sí, las modalidades de los seguros Hogar Completo, Hogar Eficaz y Hogar Premium incluyen la cobertura de daños ocasionados por humo, ya sea por escapes repentinos en cocinas, sistemas de calefacción u otros aparatos eléctricos.   \n",
       "1  La modalidad Hogar Completo cubre el robo de placas solares en cubiertas de viviendas unifamiliares hasta 3.000 € por incidente. En la modalidad Hogar Premium, la cobertura para el robo de placas solares se amplía hasta 5.000 € por incidente.   \n",
       "2                                                                               Sí, las modalidades Hogar Completo y Hogar Premium cubren la rotura accidental de elementos vitrocerámicos de cocina, incluyendo la reposición de la placa o cristal.   \n",
       "\n",
       "                                                                                                                                                                                                                                                                                                                                                      rag_answer  \\\n",
       "0                             Sí, hay garantías que cubren los daños ocasionados por humo. Estas garantías se activan en caso de escapes repentinos de humo en cocinas, sistemas de calefacción y otros aparatos eléctricos. Por ejemplo, si se produce una fuga de humo que ennegrece una pared, el seguro se encargará de los costos de limpieza y reparación.   \n",
       "1  Los seguros de hogar que cubren las placas solares incluyen el Seguro Hogar Completo y el Seguro Hogar Premium. Ambos ofrecen indemnización en caso de robo de placas solares ubicadas en la cubierta de la vivienda, garantizando hasta 3,000 € por incidente en el caso del Seguro Hogar Completo y hasta 5,000 € por incidente en el Seguro Hogar Premium.   \n",
       "2                                                       Sí, la cobertura de la vitrocerámica está incluida en las modalidades de seguro \"Hogar Completo\" y \"Hogar Premium\". Ambas modalidades cubren la rotura accidental de la placa o cristal de la vitrocerámica, así como los gastos de reposición y colocación de un nuevo cristal en caso de que se rompa.   \n",
       "\n",
       "   score  \n",
       "0      4  \n",
       "1      5  \n",
       "2      5  "
      ]
     },
     "execution_count": 87,
     "metadata": {},
     "output_type": "execute_result"
    }
   ],
   "source": [
    "import pandas as pd\n",
    "pd.set_option('display.max_colwidth', None)\n",
    "\n",
    "df = pd.DataFrame(zip(gt_q, gt_a, llm_a, scores), columns=['gt_question', 'gt_answer', 'rag_answer', 'score'])\n",
    "df"
   ]
  },
  {
   "cell_type": "markdown",
   "id": "321cd1ab",
   "metadata": {},
   "source": [
    "# External VEctor store"
   ]
  },
  {
   "cell_type": "code",
   "execution_count": 88,
   "id": "b05548b5",
   "metadata": {},
   "outputs": [],
   "source": [
    "index.storage_context.persist(\"vector_store\")"
   ]
  },
  {
   "cell_type": "code",
   "execution_count": 90,
   "id": "b0812725",
   "metadata": {},
   "outputs": [],
   "source": [
    "from llama_index.core import StorageContext, load_index_from_storage\n",
    "\n",
    "sc = StorageContext.from_defaults(persist_dir=\"vector_store\")"
   ]
  },
  {
   "cell_type": "code",
   "execution_count": 91,
   "id": "bd6ab36e",
   "metadata": {},
   "outputs": [],
   "source": [
    "index2 = load_index_from_storage(sc)\n",
    "query_engine2 = index2.as_query_engine()"
   ]
  },
  {
   "cell_type": "code",
   "execution_count": 97,
   "id": "2114943f",
   "metadata": {},
   "outputs": [
    {
     "data": {
      "text/plain": [
       "'Sí, hay garantías que cubren los daños ocasionados por humo. Estas garantías protegen tanto la vivienda como los bienes contenidos en ella, incluyendo daños causados por humo que provenga de incendios, explosiones o incluso incidentes menores, como una llamarada en la cocina. Esto significa que si el humo daña elementos como la campana extractora o el techo, los costos de reparación y restauración estarían cubiertos.'"
      ]
     },
     "execution_count": 97,
     "metadata": {},
     "output_type": "execute_result"
    }
   ],
   "source": [
    "rr = query_engine2.query(gt_q[0])\n",
    "rr.response"
   ]
  },
  {
   "cell_type": "code",
   "execution_count": null,
   "id": "13d65e63",
   "metadata": {},
   "outputs": [],
   "source": []
  }
 ],
 "metadata": {
  "kernelspec": {
   "display_name": "Python 3 (ipykernel)",
   "language": "python",
   "name": "python3"
  },
  "language_info": {
   "codemirror_mode": {
    "name": "ipython",
    "version": 3
   },
   "file_extension": ".py",
   "mimetype": "text/x-python",
   "name": "python",
   "nbconvert_exporter": "python",
   "pygments_lexer": "ipython3",
   "version": "3.11.9"
  }
 },
 "nbformat": 4,
 "nbformat_minor": 5
}
