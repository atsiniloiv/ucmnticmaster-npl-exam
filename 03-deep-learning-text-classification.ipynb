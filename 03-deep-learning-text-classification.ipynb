{
 "cells": [
  {
   "cell_type": "code",
   "execution_count": 2,
   "id": "12e3c4e9",
   "metadata": {},
   "outputs": [],
   "source": [
    "import warnings\n",
    "warnings.filterwarnings('ignore')"
   ]
  },
  {
   "cell_type": "markdown",
   "id": "22fc037c",
   "metadata": {},
   "source": [
    "# Dataset"
   ]
  },
  {
   "cell_type": "code",
   "execution_count": 1,
   "id": "9fdce7ad",
   "metadata": {},
   "outputs": [
    {
     "data": {
      "text/html": [
       "<div>\n",
       "<style scoped>\n",
       "    .dataframe tbody tr th:only-of-type {\n",
       "        vertical-align: middle;\n",
       "    }\n",
       "\n",
       "    .dataframe tbody tr th {\n",
       "        vertical-align: top;\n",
       "    }\n",
       "\n",
       "    .dataframe thead th {\n",
       "        text-align: right;\n",
       "    }\n",
       "</style>\n",
       "<table border=\"1\" class=\"dataframe\">\n",
       "  <thead>\n",
       "    <tr style=\"text-align: right;\">\n",
       "      <th></th>\n",
       "      <th>stars</th>\n",
       "      <th>review_body</th>\n",
       "      <th>review_title</th>\n",
       "      <th>product_category</th>\n",
       "    </tr>\n",
       "  </thead>\n",
       "  <tbody>\n",
       "    <tr>\n",
       "      <th>0</th>\n",
       "      <td>1</td>\n",
       "      <td>nunca llego el pedido y el vendedor pasa de to...</td>\n",
       "      <td>No llego nunca</td>\n",
       "      <td>sports</td>\n",
       "    </tr>\n",
       "    <tr>\n",
       "      <th>1</th>\n",
       "      <td>1</td>\n",
       "      <td>no sé como es, porque debería haber llegado ay...</td>\n",
       "      <td>Todavía no ha llegado</td>\n",
       "      <td>sports</td>\n",
       "    </tr>\n",
       "    <tr>\n",
       "      <th>2</th>\n",
       "      <td>1</td>\n",
       "      <td>guantes cómodos, no lo niego, pero de mala cal...</td>\n",
       "      <td>Guantes de baja calidad</td>\n",
       "      <td>sports</td>\n",
       "    </tr>\n",
       "    <tr>\n",
       "      <th>3</th>\n",
       "      <td>1</td>\n",
       "      <td>hasta hoy no he visto el producto. el pedido h...</td>\n",
       "      <td>Muy Mala experiencia</td>\n",
       "      <td>sports</td>\n",
       "    </tr>\n",
       "    <tr>\n",
       "      <th>4</th>\n",
       "      <td>1</td>\n",
       "      <td>no puedo valorarla porque, después de casi una...</td>\n",
       "      <td>Paquete perdido?</td>\n",
       "      <td>sports</td>\n",
       "    </tr>\n",
       "  </tbody>\n",
       "</table>\n",
       "</div>"
      ],
      "text/plain": [
       "   stars                                        review_body  \\\n",
       "0      1  nunca llego el pedido y el vendedor pasa de to...   \n",
       "1      1  no sé como es, porque debería haber llegado ay...   \n",
       "2      1  guantes cómodos, no lo niego, pero de mala cal...   \n",
       "3      1  hasta hoy no he visto el producto. el pedido h...   \n",
       "4      1  no puedo valorarla porque, después de casi una...   \n",
       "\n",
       "              review_title product_category  \n",
       "0           No llego nunca           sports  \n",
       "1    Todavía no ha llegado           sports  \n",
       "2  Guantes de baja calidad           sports  \n",
       "3     Muy Mala experiencia           sports  \n",
       "4         Paquete perdido?           sports  "
      ]
     },
     "execution_count": 1,
     "metadata": {},
     "output_type": "execute_result"
    }
   ],
   "source": [
    "import pandas as pd\n",
    "\n",
    "df = pd.read_csv(\"https://raw.githubusercontent.com/eduardofc/data/main/amazon_sports.csv\")\n",
    "df['review_body'] = df['review_body'].str.replace(\"[^a-zA-ZñÑáéíóú .,]\", \"\", regex=True)\n",
    "df['review_body'] = df['review_body'].str.lower()\n",
    "df.head()"
   ]
  },
  {
   "cell_type": "code",
   "execution_count": 3,
   "id": "0105e4a3",
   "metadata": {},
   "outputs": [
    {
     "data": {
      "text/plain": [
       "good_product\n",
       "0    4989\n",
       "1    5372\n",
       "dtype: int64"
      ]
     },
     "execution_count": 3,
     "metadata": {},
     "output_type": "execute_result"
    }
   ],
   "source": [
    "df = df[df.stars != 3]\n",
    "df['good_product'] = (df.stars > 3).astype(int)\n",
    "\n",
    "df.groupby('good_product').size()"
   ]
  },
  {
   "cell_type": "markdown",
   "id": "eb530eda",
   "metadata": {},
   "source": [
    "# Text Classification"
   ]
  },
  {
   "cell_type": "code",
   "execution_count": 4,
   "id": "4436b77d",
   "metadata": {},
   "outputs": [],
   "source": [
    "from tensorflow.keras.preprocessing.text import Tokenizer\n",
    "from tensorflow.keras.preprocessing.sequence import pad_sequences\n",
    "from sklearn.model_selection import train_test_split"
   ]
  },
  {
   "cell_type": "code",
   "execution_count": 6,
   "id": "d16f4fa7",
   "metadata": {},
   "outputs": [],
   "source": [
    "X = df.review_body.values\n",
    "y = df.good_product\n",
    "\n",
    "X_train, X_test, y_train, y_test = train_test_split(X, y, random_state=33, test_size=.2)\n",
    "\n",
    "vocab_size = 5000\n",
    "max_length = 50\n",
    "\n",
    "tokenizer = Tokenizer(num_words=vocab_size, oov_token='<OOV>')\n",
    "tokenizer.fit_on_texts(X_train)\n",
    "\n",
    "tokenized_X_train = tokenizer.texts_to_sequences(X_train)\n",
    "tokenized_X_test = tokenizer.texts_to_sequences(X_test)\n",
    "\n",
    "padded_X_train = pad_sequences(tokenized_X_train, maxlen=max_length, truncating='post')\n",
    "padded_X_test = pad_sequences(tokenized_X_test, maxlen=max_length, truncating='post')"
   ]
  },
  {
   "cell_type": "markdown",
   "id": "67f837c8",
   "metadata": {},
   "source": [
    "# Models"
   ]
  },
  {
   "cell_type": "code",
   "execution_count": 12,
   "id": "d0ae775b",
   "metadata": {},
   "outputs": [],
   "source": [
    "import tensorflow.keras as keras\n",
    "import numpy as np\n",
    "\n",
    "from keras import Sequential\n",
    "from keras.layers import *"
   ]
  },
  {
   "cell_type": "code",
   "execution_count": 16,
   "id": "c2721e32",
   "metadata": {},
   "outputs": [],
   "source": [
    "from time import time\n",
    "\n",
    "def fit_model(model):\n",
    "    start = time()\n",
    "    model.fit(\n",
    "        padded_X_train,\n",
    "        y_train,\n",
    "        epochs=20,\n",
    "        batch_size=100,\n",
    "        validation_data=(padded_X_test, y_test),\n",
    "        verbose=True\n",
    "    )\n",
    "    print(f\">>>> Elapsed time: {time()-start}s\")\n",
    "    \n",
    "def compile_model(model):\n",
    "    model.compile(\n",
    "        loss='binary_crossentropy',\n",
    "        optimizer='adam',\n",
    "        metrics='accuracy'\n",
    "    )\n",
    "    print(model.summary())"
   ]
  },
  {
   "cell_type": "markdown",
   "id": "d5fc1571",
   "metadata": {},
   "source": [
    "## Model 1: Dense"
   ]
  },
  {
   "cell_type": "code",
   "execution_count": 17,
   "id": "37ee41ce",
   "metadata": {},
   "outputs": [],
   "source": [
    "keras.utils.set_random_seed(812)\n",
    "\n",
    "model = Sequential([\n",
    "    Flatten(input_shape=(max_length,)),\n",
    "    Dense(128, activation='relu'),\n",
    "    Dense(64, activation='relu'),\n",
    "    Dense(1, activation='sigmoid'),\n",
    "])"
   ]
  },
  {
   "cell_type": "code",
   "execution_count": 18,
   "id": "06f5c819",
   "metadata": {},
   "outputs": [
    {
     "name": "stdout",
     "output_type": "stream",
     "text": [
      "Model: \"sequential_1\"\n",
      "_________________________________________________________________\n",
      " Layer (type)                Output Shape              Param #   \n",
      "=================================================================\n",
      " flatten_1 (Flatten)         (None, 50)                0         \n",
      "                                                                 \n",
      " dense_3 (Dense)             (None, 128)               6528      \n",
      "                                                                 \n",
      " dense_4 (Dense)             (None, 64)                8256      \n",
      "                                                                 \n",
      " dense_5 (Dense)             (None, 1)                 65        \n",
      "                                                                 \n",
      "=================================================================\n",
      "Total params: 14849 (58.00 KB)\n",
      "Trainable params: 14849 (58.00 KB)\n",
      "Non-trainable params: 0 (0.00 Byte)\n",
      "_________________________________________________________________\n",
      "None\n",
      "Epoch 1/20\n",
      "83/83 [==============================] - 1s 4ms/step - loss: 32.6707 - accuracy: 0.5148 - val_loss: 17.6519 - val_accuracy: 0.4969\n",
      "Epoch 2/20\n",
      "83/83 [==============================] - 0s 3ms/step - loss: 13.3820 - accuracy: 0.5402 - val_loss: 13.2627 - val_accuracy: 0.5239\n",
      "Epoch 3/20\n",
      "83/83 [==============================] - 0s 3ms/step - loss: 8.6187 - accuracy: 0.5770 - val_loss: 10.9399 - val_accuracy: 0.5041\n",
      "Epoch 4/20\n",
      "83/83 [==============================] - 0s 3ms/step - loss: 6.1289 - accuracy: 0.5913 - val_loss: 9.9573 - val_accuracy: 0.5031\n",
      "Epoch 5/20\n",
      "83/83 [==============================] - 0s 3ms/step - loss: 4.6357 - accuracy: 0.6192 - val_loss: 9.2269 - val_accuracy: 0.5176\n",
      "Epoch 6/20\n",
      "83/83 [==============================] - 0s 2ms/step - loss: 3.5993 - accuracy: 0.6359 - val_loss: 8.6498 - val_accuracy: 0.5176\n",
      "Epoch 7/20\n",
      "83/83 [==============================] - 0s 3ms/step - loss: 2.8446 - accuracy: 0.6578 - val_loss: 7.9590 - val_accuracy: 0.4954\n",
      "Epoch 8/20\n",
      "83/83 [==============================] - 0s 2ms/step - loss: 2.4496 - accuracy: 0.6663 - val_loss: 7.8032 - val_accuracy: 0.4969\n",
      "Epoch 9/20\n",
      "83/83 [==============================] - 0s 3ms/step - loss: 2.0751 - accuracy: 0.6832 - val_loss: 7.4034 - val_accuracy: 0.5109\n",
      "Epoch 10/20\n",
      "83/83 [==============================] - 0s 3ms/step - loss: 1.7402 - accuracy: 0.6967 - val_loss: 7.2243 - val_accuracy: 0.5191\n",
      "Epoch 11/20\n",
      "83/83 [==============================] - 0s 3ms/step - loss: 1.5861 - accuracy: 0.7055 - val_loss: 6.8049 - val_accuracy: 0.4930\n",
      "Epoch 12/20\n",
      "83/83 [==============================] - 0s 3ms/step - loss: 1.3740 - accuracy: 0.7161 - val_loss: 6.4378 - val_accuracy: 0.4964\n",
      "Epoch 13/20\n",
      "83/83 [==============================] - 0s 3ms/step - loss: 1.2114 - accuracy: 0.7227 - val_loss: 6.3038 - val_accuracy: 0.5128\n",
      "Epoch 14/20\n",
      "83/83 [==============================] - 0s 3ms/step - loss: 1.0866 - accuracy: 0.7367 - val_loss: 6.1792 - val_accuracy: 0.5152\n",
      "Epoch 15/20\n",
      "83/83 [==============================] - 0s 3ms/step - loss: 1.0746 - accuracy: 0.7352 - val_loss: 5.8097 - val_accuracy: 0.5084\n",
      "Epoch 16/20\n",
      "83/83 [==============================] - 0s 2ms/step - loss: 0.9075 - accuracy: 0.7486 - val_loss: 5.5392 - val_accuracy: 0.5186\n",
      "Epoch 17/20\n",
      "83/83 [==============================] - 0s 3ms/step - loss: 0.8059 - accuracy: 0.7632 - val_loss: 5.4389 - val_accuracy: 0.5007\n",
      "Epoch 18/20\n",
      "83/83 [==============================] - 0s 3ms/step - loss: 0.7611 - accuracy: 0.7648 - val_loss: 5.4236 - val_accuracy: 0.5306\n",
      "Epoch 19/20\n",
      "83/83 [==============================] - 0s 3ms/step - loss: 0.7220 - accuracy: 0.7644 - val_loss: 5.1772 - val_accuracy: 0.5118\n",
      "Epoch 20/20\n",
      "83/83 [==============================] - 0s 3ms/step - loss: 0.6602 - accuracy: 0.7723 - val_loss: 5.1384 - val_accuracy: 0.5292\n",
      ">>>> Elapsed time: 5.145184516906738s\n"
     ]
    }
   ],
   "source": [
    "compile_model(model)\n",
    "fit_model(model)"
   ]
  },
  {
   "cell_type": "markdown",
   "id": "64af8652",
   "metadata": {},
   "source": [
    "## Model 2: Dense + Embeddings"
   ]
  },
  {
   "cell_type": "code",
   "execution_count": 19,
   "id": "ee9866c7",
   "metadata": {},
   "outputs": [],
   "source": [
    "keras.utils.set_random_seed(812)\n",
    "\n",
    "embed_dim = 20\n",
    "\n",
    "model = Sequential([\n",
    "    Embedding(\n",
    "        input_dim=vocab_size,\n",
    "        input_length=max_length,\n",
    "        output_dim=embed_dim\n",
    "    ),\n",
    "    Flatten(),\n",
    "    Dense(1, activation='sigmoid')\n",
    "])"
   ]
  },
  {
   "cell_type": "code",
   "execution_count": 22,
   "id": "6584fc3b",
   "metadata": {},
   "outputs": [
    {
     "name": "stdout",
     "output_type": "stream",
     "text": [
      "Model: \"sequential_2\"\n",
      "_________________________________________________________________\n",
      " Layer (type)                Output Shape              Param #   \n",
      "=================================================================\n",
      " embedding (Embedding)       (None, 50, 20)            100000    \n",
      "                                                                 \n",
      " flatten_2 (Flatten)         (None, 1000)              0         \n",
      "                                                                 \n",
      " dense_6 (Dense)             (None, 1)                 1001      \n",
      "                                                                 \n",
      "=================================================================\n",
      "Total params: 101001 (394.54 KB)\n",
      "Trainable params: 101001 (394.54 KB)\n",
      "Non-trainable params: 0 (0.00 Byte)\n",
      "_________________________________________________________________\n",
      "None\n",
      "Epoch 1/20\n",
      "83/83 [==============================] - 1s 4ms/step - loss: 0.6788 - accuracy: 0.5677 - val_loss: 0.6574 - val_accuracy: 0.6425\n",
      "Epoch 2/20\n",
      "83/83 [==============================] - 0s 3ms/step - loss: 0.5832 - accuracy: 0.7426 - val_loss: 0.5193 - val_accuracy: 0.7704\n",
      "Epoch 3/20\n",
      "83/83 [==============================] - 0s 3ms/step - loss: 0.4288 - accuracy: 0.8340 - val_loss: 0.4188 - val_accuracy: 0.8157\n",
      "Epoch 4/20\n",
      "83/83 [==============================] - 0s 3ms/step - loss: 0.3377 - accuracy: 0.8737 - val_loss: 0.3792 - val_accuracy: 0.8292\n",
      "Epoch 5/20\n",
      "83/83 [==============================] - 0s 3ms/step - loss: 0.2812 - accuracy: 0.8982 - val_loss: 0.3588 - val_accuracy: 0.8398\n",
      "Epoch 6/20\n",
      "83/83 [==============================] - 0s 3ms/step - loss: 0.2423 - accuracy: 0.9175 - val_loss: 0.3493 - val_accuracy: 0.8437\n",
      "Epoch 7/20\n",
      "83/83 [==============================] - 0s 3ms/step - loss: 0.2089 - accuracy: 0.9312 - val_loss: 0.3456 - val_accuracy: 0.8442\n",
      "Epoch 8/20\n",
      "83/83 [==============================] - 0s 3ms/step - loss: 0.1815 - accuracy: 0.9452 - val_loss: 0.3437 - val_accuracy: 0.8452\n",
      "Epoch 9/20\n",
      "83/83 [==============================] - 0s 3ms/step - loss: 0.1587 - accuracy: 0.9532 - val_loss: 0.3459 - val_accuracy: 0.8456\n",
      "Epoch 10/20\n",
      "83/83 [==============================] - 0s 3ms/step - loss: 0.1385 - accuracy: 0.9642 - val_loss: 0.3545 - val_accuracy: 0.8423\n",
      "Epoch 11/20\n",
      "83/83 [==============================] - 0s 3ms/step - loss: 0.1214 - accuracy: 0.9698 - val_loss: 0.3535 - val_accuracy: 0.8447\n",
      "Epoch 12/20\n",
      "83/83 [==============================] - 0s 3ms/step - loss: 0.1057 - accuracy: 0.9744 - val_loss: 0.3592 - val_accuracy: 0.8452\n",
      "Epoch 13/20\n",
      "83/83 [==============================] - 0s 3ms/step - loss: 0.0934 - accuracy: 0.9788 - val_loss: 0.3647 - val_accuracy: 0.8413\n",
      "Epoch 14/20\n",
      "83/83 [==============================] - 0s 3ms/step - loss: 0.0819 - accuracy: 0.9832 - val_loss: 0.3706 - val_accuracy: 0.8408\n",
      "Epoch 15/20\n",
      "83/83 [==============================] - 0s 3ms/step - loss: 0.0716 - accuracy: 0.9876 - val_loss: 0.3761 - val_accuracy: 0.8413\n",
      "Epoch 16/20\n",
      "83/83 [==============================] - 0s 3ms/step - loss: 0.0632 - accuracy: 0.9895 - val_loss: 0.3850 - val_accuracy: 0.8398\n",
      "Epoch 17/20\n",
      "83/83 [==============================] - 0s 3ms/step - loss: 0.0562 - accuracy: 0.9920 - val_loss: 0.3910 - val_accuracy: 0.8398\n",
      "Epoch 18/20\n",
      "83/83 [==============================] - 0s 3ms/step - loss: 0.0498 - accuracy: 0.9930 - val_loss: 0.4005 - val_accuracy: 0.8365\n",
      "Epoch 19/20\n",
      "83/83 [==============================] - 0s 3ms/step - loss: 0.0448 - accuracy: 0.9941 - val_loss: 0.4067 - val_accuracy: 0.8374\n",
      "Epoch 20/20\n",
      "83/83 [==============================] - 0s 3ms/step - loss: 0.0397 - accuracy: 0.9954 - val_loss: 0.4128 - val_accuracy: 0.8413\n",
      ">>>> Elapsed time: 5.5202317237854s\n"
     ]
    }
   ],
   "source": [
    "compile_model(model)\n",
    "fit_model(model)"
   ]
  },
  {
   "cell_type": "markdown",
   "id": "3820548d",
   "metadata": {},
   "source": [
    "## Model 3: CNN + Embeddings"
   ]
  },
  {
   "cell_type": "code",
   "execution_count": 30,
   "id": "96d99c96",
   "metadata": {},
   "outputs": [],
   "source": [
    "keras.utils.set_random_seed(812)\n",
    "\n",
    "filters = 64\n",
    "kernel_size = 5\n",
    "\n",
    "model = Sequential([\n",
    "    Embedding(\n",
    "        input_dim=vocab_size,\n",
    "        output_dim=embed_dim,\n",
    "        input_length=max_length,\n",
    "    ),\n",
    "    Conv1D(filters, kernel_size, activation='relu'),\n",
    "    GlobalAveragePooling1D(),\n",
    "#     MaxPooling1D(),\n",
    "    Dense(6, activation='relu'),\n",
    "    Dense(1, activation='sigmoid')\n",
    "])"
   ]
  },
  {
   "cell_type": "code",
   "execution_count": 31,
   "id": "6686bf80",
   "metadata": {},
   "outputs": [
    {
     "name": "stdout",
     "output_type": "stream",
     "text": [
      "Model: \"sequential_6\"\n",
      "_________________________________________________________________\n",
      " Layer (type)                Output Shape              Param #   \n",
      "=================================================================\n",
      " embedding_4 (Embedding)     (None, 50, 20)            100000    \n",
      "                                                                 \n",
      " conv1d_3 (Conv1D)           (None, 46, 64)            6464      \n",
      "                                                                 \n",
      " global_average_pooling1d_1  (None, 64)                0         \n",
      "  (GlobalAveragePooling1D)                                       \n",
      "                                                                 \n",
      " dense_13 (Dense)            (None, 6)                 390       \n",
      "                                                                 \n",
      " dense_14 (Dense)            (None, 1)                 7         \n",
      "                                                                 \n",
      "=================================================================\n",
      "Total params: 106861 (417.43 KB)\n",
      "Trainable params: 106861 (417.43 KB)\n",
      "Non-trainable params: 0 (0.00 Byte)\n",
      "_________________________________________________________________\n",
      "None\n",
      "Epoch 1/20\n",
      "83/83 [==============================] - 1s 6ms/step - loss: 0.6731 - accuracy: 0.5553 - val_loss: 0.6336 - val_accuracy: 0.6643\n",
      "Epoch 2/20\n",
      "83/83 [==============================] - 0s 4ms/step - loss: 0.4970 - accuracy: 0.7860 - val_loss: 0.3949 - val_accuracy: 0.8394\n",
      "Epoch 3/20\n",
      "83/83 [==============================] - 0s 4ms/step - loss: 0.3085 - accuracy: 0.8830 - val_loss: 0.3578 - val_accuracy: 0.8553\n",
      "Epoch 4/20\n",
      "83/83 [==============================] - 0s 4ms/step - loss: 0.2370 - accuracy: 0.9148 - val_loss: 0.3633 - val_accuracy: 0.8538\n",
      "Epoch 5/20\n",
      "83/83 [==============================] - 0s 4ms/step - loss: 0.1969 - accuracy: 0.9329 - val_loss: 0.3794 - val_accuracy: 0.8577\n",
      "Epoch 6/20\n",
      "83/83 [==============================] - 0s 4ms/step - loss: 0.1657 - accuracy: 0.9445 - val_loss: 0.4177 - val_accuracy: 0.8447\n",
      "Epoch 7/20\n",
      "83/83 [==============================] - 0s 4ms/step - loss: 0.1422 - accuracy: 0.9563 - val_loss: 0.4537 - val_accuracy: 0.8413\n",
      "Epoch 8/20\n",
      "83/83 [==============================] - 0s 4ms/step - loss: 0.1254 - accuracy: 0.9610 - val_loss: 0.4583 - val_accuracy: 0.8509\n",
      "Epoch 9/20\n",
      "83/83 [==============================] - 0s 4ms/step - loss: 0.1133 - accuracy: 0.9671 - val_loss: 0.5030 - val_accuracy: 0.8490\n",
      "Epoch 10/20\n",
      "83/83 [==============================] - 0s 4ms/step - loss: 0.1011 - accuracy: 0.9698 - val_loss: 0.5244 - val_accuracy: 0.8442\n",
      "Epoch 11/20\n",
      "83/83 [==============================] - 0s 4ms/step - loss: 0.0910 - accuracy: 0.9742 - val_loss: 0.6004 - val_accuracy: 0.8365\n",
      "Epoch 12/20\n",
      "83/83 [==============================] - 0s 4ms/step - loss: 0.0856 - accuracy: 0.9764 - val_loss: 0.5938 - val_accuracy: 0.8355\n",
      "Epoch 13/20\n",
      "83/83 [==============================] - 0s 4ms/step - loss: 0.0755 - accuracy: 0.9795 - val_loss: 0.6477 - val_accuracy: 0.8355\n",
      "Epoch 14/20\n",
      "83/83 [==============================] - 0s 4ms/step - loss: 0.0720 - accuracy: 0.9786 - val_loss: 0.6655 - val_accuracy: 0.8379\n",
      "Epoch 15/20\n",
      "83/83 [==============================] - 0s 4ms/step - loss: 0.0648 - accuracy: 0.9814 - val_loss: 0.7507 - val_accuracy: 0.8307\n",
      "Epoch 16/20\n",
      "83/83 [==============================] - 0s 4ms/step - loss: 0.0586 - accuracy: 0.9843 - val_loss: 0.7556 - val_accuracy: 0.8326\n",
      "Epoch 17/20\n",
      "83/83 [==============================] - 0s 4ms/step - loss: 0.0532 - accuracy: 0.9862 - val_loss: 0.8136 - val_accuracy: 0.8307\n",
      "Epoch 18/20\n",
      "83/83 [==============================] - 0s 5ms/step - loss: 0.0488 - accuracy: 0.9875 - val_loss: 0.8201 - val_accuracy: 0.8259\n",
      "Epoch 19/20\n",
      "83/83 [==============================] - 0s 4ms/step - loss: 0.0476 - accuracy: 0.9872 - val_loss: 0.9819 - val_accuracy: 0.8157\n",
      "Epoch 20/20\n",
      "83/83 [==============================] - 0s 5ms/step - loss: 0.0421 - accuracy: 0.9894 - val_loss: 0.9147 - val_accuracy: 0.8254\n",
      ">>>> Elapsed time: 8.310856580734253s\n"
     ]
    }
   ],
   "source": [
    "compile_model(model)\n",
    "fit_model(model)"
   ]
  },
  {
   "cell_type": "markdown",
   "id": "95d267ac",
   "metadata": {},
   "source": [
    "## Model 4: Bi-LSTM + Embedding"
   ]
  },
  {
   "cell_type": "code",
   "execution_count": 36,
   "id": "8eb4118c",
   "metadata": {},
   "outputs": [],
   "source": [
    "keras.utils.set_random_seed(812)\n",
    "\n",
    "lstm_dim = 32\n",
    "\n",
    "model = Sequential([\n",
    "    Embedding(\n",
    "        input_dim=vocab_size,\n",
    "        input_length=max_length,\n",
    "        output_dim=embed_dim\n",
    "    ),\n",
    "#     LSTM(lstm_dim),\n",
    "    Bidirectional(LSTM(lstm_dim)),\n",
    "    Dense(6, activation='relu'),\n",
    "    Dense(1, activation='sigmoid'),\n",
    "])"
   ]
  },
  {
   "cell_type": "code",
   "execution_count": 37,
   "id": "c3e8ce66",
   "metadata": {},
   "outputs": [
    {
     "name": "stdout",
     "output_type": "stream",
     "text": [
      "Model: \"sequential_8\"\n",
      "_________________________________________________________________\n",
      " Layer (type)                Output Shape              Param #   \n",
      "=================================================================\n",
      " embedding_6 (Embedding)     (None, 50, 20)            100000    \n",
      "                                                                 \n",
      " bidirectional (Bidirection  (None, 64)                13568     \n",
      " al)                                                             \n",
      "                                                                 \n",
      " dense_17 (Dense)            (None, 6)                 390       \n",
      "                                                                 \n",
      " dense_18 (Dense)            (None, 1)                 7         \n",
      "                                                                 \n",
      "=================================================================\n",
      "Total params: 113965 (445.18 KB)\n",
      "Trainable params: 113965 (445.18 KB)\n",
      "Non-trainable params: 0 (0.00 Byte)\n",
      "_________________________________________________________________\n",
      "None\n",
      "Epoch 1/20\n",
      "83/83 [==============================] - 5s 27ms/step - loss: 0.6267 - accuracy: 0.6296 - val_loss: 0.5136 - val_accuracy: 0.7390\n",
      "Epoch 2/20\n",
      "83/83 [==============================] - 1s 17ms/step - loss: 0.3734 - accuracy: 0.8480 - val_loss: 0.3607 - val_accuracy: 0.8456\n",
      "Epoch 3/20\n",
      "83/83 [==============================] - 2s 18ms/step - loss: 0.2646 - accuracy: 0.8991 - val_loss: 0.3386 - val_accuracy: 0.8596\n",
      "Epoch 4/20\n",
      "83/83 [==============================] - 2s 19ms/step - loss: 0.2043 - accuracy: 0.9242 - val_loss: 0.3623 - val_accuracy: 0.8548\n",
      "Epoch 5/20\n",
      "83/83 [==============================] - 1s 18ms/step - loss: 0.1634 - accuracy: 0.9447 - val_loss: 0.4033 - val_accuracy: 0.8529\n",
      "Epoch 6/20\n",
      "83/83 [==============================] - 1s 17ms/step - loss: 0.1308 - accuracy: 0.9570 - val_loss: 0.4367 - val_accuracy: 0.8509\n",
      "Epoch 7/20\n",
      "83/83 [==============================] - 2s 18ms/step - loss: 0.1085 - accuracy: 0.9662 - val_loss: 0.5417 - val_accuracy: 0.8427\n",
      "Epoch 8/20\n",
      "83/83 [==============================] - 1s 17ms/step - loss: 0.1004 - accuracy: 0.9683 - val_loss: 0.4834 - val_accuracy: 0.8427\n",
      "Epoch 9/20\n",
      "83/83 [==============================] - 1s 18ms/step - loss: 0.0819 - accuracy: 0.9761 - val_loss: 0.6094 - val_accuracy: 0.8403\n",
      "Epoch 10/20\n",
      "83/83 [==============================] - 1s 18ms/step - loss: 0.0686 - accuracy: 0.9808 - val_loss: 0.6872 - val_accuracy: 0.8384\n",
      "Epoch 11/20\n",
      "83/83 [==============================] - 1s 17ms/step - loss: 0.0678 - accuracy: 0.9807 - val_loss: 0.7361 - val_accuracy: 0.8215\n",
      "Epoch 12/20\n",
      "83/83 [==============================] - 1s 17ms/step - loss: 0.0723 - accuracy: 0.9778 - val_loss: 0.7089 - val_accuracy: 0.8259\n",
      "Epoch 13/20\n",
      "83/83 [==============================] - 1s 17ms/step - loss: 0.0546 - accuracy: 0.9842 - val_loss: 0.7398 - val_accuracy: 0.8283\n",
      "Epoch 14/20\n",
      "83/83 [==============================] - 1s 17ms/step - loss: 0.0455 - accuracy: 0.9879 - val_loss: 0.7306 - val_accuracy: 0.8230\n",
      "Epoch 15/20\n",
      "83/83 [==============================] - 1s 17ms/step - loss: 0.0411 - accuracy: 0.9900 - val_loss: 0.9198 - val_accuracy: 0.8249\n",
      "Epoch 16/20\n",
      "83/83 [==============================] - 1s 17ms/step - loss: 0.0399 - accuracy: 0.9899 - val_loss: 0.8429 - val_accuracy: 0.8225\n",
      "Epoch 17/20\n",
      "83/83 [==============================] - 1s 17ms/step - loss: 0.0313 - accuracy: 0.9940 - val_loss: 0.8884 - val_accuracy: 0.8201\n",
      "Epoch 18/20\n",
      "83/83 [==============================] - 1s 17ms/step - loss: 0.0261 - accuracy: 0.9941 - val_loss: 0.9345 - val_accuracy: 0.8157\n",
      "Epoch 19/20\n",
      "83/83 [==============================] - 1s 18ms/step - loss: 0.0260 - accuracy: 0.9947 - val_loss: 0.9233 - val_accuracy: 0.8201\n",
      "Epoch 20/20\n",
      "83/83 [==============================] - 1s 17ms/step - loss: 0.0294 - accuracy: 0.9934 - val_loss: 0.9477 - val_accuracy: 0.8196\n",
      ">>>> Elapsed time: 33.20298671722412s\n"
     ]
    }
   ],
   "source": [
    "compile_model(model)\n",
    "fit_model(model)"
   ]
  },
  {
   "cell_type": "markdown",
   "id": "6e6e0253",
   "metadata": {},
   "source": [
    "# Reduccion de overfitting"
   ]
  },
  {
   "cell_type": "code",
   "execution_count": 41,
   "id": "0e0cc47b",
   "metadata": {},
   "outputs": [],
   "source": [
    "keras.utils.set_random_seed(812)\n",
    "\n",
    "filters = 64\n",
    "kernel_size = 5\n",
    "\n",
    "model = Sequential([\n",
    "    Embedding(\n",
    "        input_dim=vocab_size,\n",
    "        output_dim=embed_dim,\n",
    "        input_length=max_length,\n",
    "    ),\n",
    "    Dropout(0.8),\n",
    "    Conv1D(filters, kernel_size, activation='relu'),\n",
    "    GlobalAveragePooling1D(),\n",
    "#     MaxPooling1D(),\n",
    "    Dropout(0.8),\n",
    "    BatchNormalization(),\n",
    "    Dense(6, activation='relu'),\n",
    "    Dropout(0.8),\n",
    "    Dense(1, activation='sigmoid')\n",
    "])"
   ]
  },
  {
   "cell_type": "code",
   "execution_count": 42,
   "id": "0a3684da",
   "metadata": {},
   "outputs": [
    {
     "name": "stdout",
     "output_type": "stream",
     "text": [
      "Model: \"sequential_10\"\n",
      "_________________________________________________________________\n",
      " Layer (type)                Output Shape              Param #   \n",
      "=================================================================\n",
      " embedding_8 (Embedding)     (None, 50, 20)            100000    \n",
      "                                                                 \n",
      " dropout_3 (Dropout)         (None, 50, 20)            0         \n",
      "                                                                 \n",
      " conv1d_5 (Conv1D)           (None, 46, 64)            6464      \n",
      "                                                                 \n",
      " global_average_pooling1d_3  (None, 64)                0         \n",
      "  (GlobalAveragePooling1D)                                       \n",
      "                                                                 \n",
      " dropout_4 (Dropout)         (None, 64)                0         \n",
      "                                                                 \n",
      " batch_normalization_1 (Bat  (None, 64)                256       \n",
      " chNormalization)                                                \n",
      "                                                                 \n",
      " dense_21 (Dense)            (None, 6)                 390       \n",
      "                                                                 \n",
      " dropout_5 (Dropout)         (None, 6)                 0         \n",
      "                                                                 \n",
      " dense_22 (Dense)            (None, 1)                 7         \n",
      "                                                                 \n",
      "=================================================================\n",
      "Total params: 107117 (418.43 KB)\n",
      "Trainable params: 106989 (417.93 KB)\n",
      "Non-trainable params: 128 (512.00 Byte)\n",
      "_________________________________________________________________\n",
      "None\n",
      "Epoch 1/20\n",
      "83/83 [==============================] - 2s 8ms/step - loss: 0.8076 - accuracy: 0.4807 - val_loss: 0.6931 - val_accuracy: 0.5036\n",
      "Epoch 2/20\n",
      "83/83 [==============================] - 1s 6ms/step - loss: 0.6985 - accuracy: 0.4995 - val_loss: 0.6932 - val_accuracy: 0.4964\n",
      "Epoch 3/20\n",
      "83/83 [==============================] - 1s 6ms/step - loss: 0.6927 - accuracy: 0.5247 - val_loss: 0.6933 - val_accuracy: 0.4964\n",
      "Epoch 4/20\n",
      "83/83 [==============================] - 1s 6ms/step - loss: 0.6916 - accuracy: 0.5252 - val_loss: 0.6935 - val_accuracy: 0.4964\n",
      "Epoch 5/20\n",
      "83/83 [==============================] - 1s 6ms/step - loss: 0.6927 - accuracy: 0.5230 - val_loss: 0.6937 - val_accuracy: 0.4964\n",
      "Epoch 6/20\n",
      "83/83 [==============================] - 1s 6ms/step - loss: 0.6915 - accuracy: 0.5232 - val_loss: 0.6938 - val_accuracy: 0.4964\n",
      "Epoch 7/20\n",
      "83/83 [==============================] - 1s 6ms/step - loss: 0.6911 - accuracy: 0.5241 - val_loss: 0.6938 - val_accuracy: 0.4964\n",
      "Epoch 8/20\n",
      "83/83 [==============================] - 1s 7ms/step - loss: 0.6894 - accuracy: 0.5233 - val_loss: 0.6938 - val_accuracy: 0.4964\n",
      "Epoch 9/20\n",
      "83/83 [==============================] - 1s 7ms/step - loss: 0.6862 - accuracy: 0.5244 - val_loss: 0.6936 - val_accuracy: 0.4964\n",
      "Epoch 10/20\n",
      "83/83 [==============================] - 1s 6ms/step - loss: 0.6837 - accuracy: 0.5232 - val_loss: 0.6934 - val_accuracy: 0.4964\n",
      "Epoch 11/20\n",
      "83/83 [==============================] - 1s 7ms/step - loss: 0.6770 - accuracy: 0.5236 - val_loss: 0.6907 - val_accuracy: 0.4964\n",
      "Epoch 12/20\n",
      "83/83 [==============================] - 1s 7ms/step - loss: 0.6632 - accuracy: 0.5526 - val_loss: 0.6688 - val_accuracy: 0.7429\n",
      "Epoch 13/20\n",
      "83/83 [==============================] - 1s 6ms/step - loss: 0.6466 - accuracy: 0.6140 - val_loss: 0.6235 - val_accuracy: 0.7974\n",
      "Epoch 14/20\n",
      "83/83 [==============================] - 1s 6ms/step - loss: 0.6270 - accuracy: 0.6438 - val_loss: 0.6097 - val_accuracy: 0.7781\n",
      "Epoch 15/20\n",
      "83/83 [==============================] - 1s 6ms/step - loss: 0.6159 - accuracy: 0.6671 - val_loss: 0.5783 - val_accuracy: 0.8095\n",
      "Epoch 16/20\n",
      "83/83 [==============================] - 1s 6ms/step - loss: 0.6068 - accuracy: 0.6698 - val_loss: 0.5613 - val_accuracy: 0.8104\n",
      "Epoch 17/20\n",
      "83/83 [==============================] - 1s 6ms/step - loss: 0.6023 - accuracy: 0.6759 - val_loss: 0.5452 - val_accuracy: 0.8263\n",
      "Epoch 18/20\n",
      "83/83 [==============================] - 1s 6ms/step - loss: 0.5808 - accuracy: 0.6961 - val_loss: 0.5257 - val_accuracy: 0.8239\n",
      "Epoch 19/20\n",
      "83/83 [==============================] - 1s 7ms/step - loss: 0.5704 - accuracy: 0.6987 - val_loss: 0.4899 - val_accuracy: 0.8316\n",
      "Epoch 20/20\n",
      "83/83 [==============================] - 1s 7ms/step - loss: 0.5756 - accuracy: 0.6967 - val_loss: 0.4878 - val_accuracy: 0.8307\n",
      ">>>> Elapsed time: 12.570854902267456s\n"
     ]
    }
   ],
   "source": [
    "compile_model(model)\n",
    "fit_model(model)"
   ]
  },
  {
   "cell_type": "markdown",
   "id": "ab04afa7",
   "metadata": {},
   "source": [
    "# Tamaño del dataset"
   ]
  },
  {
   "cell_type": "code",
   "execution_count": 46,
   "id": "c2ee8ee9",
   "metadata": {},
   "outputs": [
    {
     "data": {
      "text/plain": [
       "(50536, 4)"
      ]
     },
     "execution_count": 46,
     "metadata": {},
     "output_type": "execute_result"
    }
   ],
   "source": [
    "df1 = pd.read_csv(\"https://raw.githubusercontent.com/eduardofc/data/main/amazon_sports.csv\")\n",
    "df2 = pd.read_csv(\"https://raw.githubusercontent.com/eduardofc/data/main/amazon_electronics.csv\")\n",
    "df3 = pd.read_csv(\"https://raw.githubusercontent.com/eduardofc/data/main/amazon_home.csv\")\n",
    "df = pd.concat([df1, df2, df3])\n",
    "\n",
    "df['review_body'] = df['review_body'].str.replace(\"[^a-zA-ZñÑáéíóú .,]\", \"\", regex=True)\n",
    "df['review_body'] = df['review_body'].str.lower()\n",
    "df.shape"
   ]
  },
  {
   "cell_type": "code",
   "execution_count": 47,
   "id": "ec792198",
   "metadata": {},
   "outputs": [
    {
     "data": {
      "text/plain": [
       "good_product\n",
       "0    20512\n",
       "1    19817\n",
       "dtype: int64"
      ]
     },
     "execution_count": 47,
     "metadata": {},
     "output_type": "execute_result"
    }
   ],
   "source": [
    "df = df[df.stars != 3]\n",
    "df['good_product'] = (df.stars > 3).astype(int)\n",
    "\n",
    "df.groupby('good_product').size()"
   ]
  },
  {
   "cell_type": "code",
   "execution_count": 48,
   "id": "f1dac1d2",
   "metadata": {},
   "outputs": [
    {
     "name": "stdout",
     "output_type": "stream",
     "text": [
      "32263\n",
      "8066\n"
     ]
    }
   ],
   "source": [
    "X = df.review_body.values\n",
    "y = df.good_product\n",
    "\n",
    "X_train, X_test, y_train, y_test = train_test_split(X, y, random_state=33, test_size=.2)\n",
    "\n",
    "print(len(X_train))\n",
    "print(len(X_test))\n",
    "\n",
    "vocab_size = 5000\n",
    "max_length = 50\n",
    "\n",
    "tokenizer = Tokenizer(num_words=vocab_size, oov_token='<OOV>')\n",
    "tokenizer.fit_on_texts(X_train)\n",
    "\n",
    "tokenized_X_train = tokenizer.texts_to_sequences(X_train)\n",
    "tokenized_X_test = tokenizer.texts_to_sequences(X_test)\n",
    "\n",
    "padded_X_train = pad_sequences(tokenized_X_train, maxlen=max_length, truncating='post')\n",
    "padded_X_test = pad_sequences(tokenized_X_test, maxlen=max_length, truncating='post')"
   ]
  },
  {
   "cell_type": "code",
   "execution_count": 49,
   "id": "07e31ad4",
   "metadata": {},
   "outputs": [],
   "source": [
    "keras.utils.set_random_seed(812)\n",
    "\n",
    "lstm_dim = 32\n",
    "\n",
    "model = Sequential([\n",
    "    Embedding(\n",
    "        input_dim=vocab_size,\n",
    "        input_length=max_length,\n",
    "        output_dim=embed_dim\n",
    "    ),\n",
    "#     LSTM(lstm_dim),\n",
    "    Bidirectional(LSTM(lstm_dim)),\n",
    "    Dense(6, activation='relu'),\n",
    "    Dense(1, activation='sigmoid'),\n",
    "])"
   ]
  },
  {
   "cell_type": "code",
   "execution_count": 50,
   "id": "7cf39446",
   "metadata": {},
   "outputs": [
    {
     "name": "stdout",
     "output_type": "stream",
     "text": [
      "Model: \"sequential_11\"\n",
      "_________________________________________________________________\n",
      " Layer (type)                Output Shape              Param #   \n",
      "=================================================================\n",
      " embedding_9 (Embedding)     (None, 50, 20)            100000    \n",
      "                                                                 \n",
      " bidirectional_1 (Bidirecti  (None, 64)                13568     \n",
      " onal)                                                           \n",
      "                                                                 \n",
      " dense_23 (Dense)            (None, 6)                 390       \n",
      "                                                                 \n",
      " dense_24 (Dense)            (None, 1)                 7         \n",
      "                                                                 \n",
      "=================================================================\n",
      "Total params: 113965 (445.18 KB)\n",
      "Trainable params: 113965 (445.18 KB)\n",
      "Non-trainable params: 0 (0.00 Byte)\n",
      "_________________________________________________________________\n",
      "None\n"
     ]
    }
   ],
   "source": [
    "compile_model(model)"
   ]
  },
  {
   "cell_type": "code",
   "execution_count": 51,
   "id": "7a04e975",
   "metadata": {},
   "outputs": [
    {
     "name": "stdout",
     "output_type": "stream",
     "text": [
      "Epoch 1/20\n",
      "323/323 [==============================] - 10s 20ms/step - loss: 0.4286 - accuracy: 0.7945 - val_loss: 0.3168 - val_accuracy: 0.8686\n",
      "Epoch 2/20\n",
      "323/323 [==============================] - 6s 18ms/step - loss: 0.2745 - accuracy: 0.8924 - val_loss: 0.3016 - val_accuracy: 0.8791\n",
      "Epoch 3/20\n",
      "323/323 [==============================] - 6s 18ms/step - loss: 0.2414 - accuracy: 0.9077 - val_loss: 0.2996 - val_accuracy: 0.8815\n",
      "Epoch 4/20\n",
      "323/323 [==============================] - 6s 18ms/step - loss: 0.2155 - accuracy: 0.9200 - val_loss: 0.2969 - val_accuracy: 0.8814\n",
      "Epoch 5/20\n",
      "323/323 [==============================] - 6s 18ms/step - loss: 0.1950 - accuracy: 0.9287 - val_loss: 0.3087 - val_accuracy: 0.8827\n",
      "Epoch 6/20\n",
      "323/323 [==============================] - 6s 18ms/step - loss: 0.1785 - accuracy: 0.9357 - val_loss: 0.3123 - val_accuracy: 0.8835\n",
      "Epoch 7/20\n",
      "323/323 [==============================] - 6s 18ms/step - loss: 0.1625 - accuracy: 0.9424 - val_loss: 0.3207 - val_accuracy: 0.8807\n",
      "Epoch 8/20\n",
      "323/323 [==============================] - 6s 18ms/step - loss: 0.1497 - accuracy: 0.9469 - val_loss: 0.3430 - val_accuracy: 0.8690\n",
      "Epoch 9/20\n",
      "323/323 [==============================] - 6s 18ms/step - loss: 0.1372 - accuracy: 0.9537 - val_loss: 0.3594 - val_accuracy: 0.8784\n",
      "Epoch 10/20\n",
      "323/323 [==============================] - 6s 18ms/step - loss: 0.1249 - accuracy: 0.9579 - val_loss: 0.3703 - val_accuracy: 0.8758\n",
      "Epoch 11/20\n",
      "323/323 [==============================] - 6s 18ms/step - loss: 0.1160 - accuracy: 0.9617 - val_loss: 0.3905 - val_accuracy: 0.8761\n",
      "Epoch 12/20\n",
      "323/323 [==============================] - 6s 18ms/step - loss: 0.1081 - accuracy: 0.9651 - val_loss: 0.4168 - val_accuracy: 0.8708\n",
      "Epoch 13/20\n",
      "323/323 [==============================] - 6s 19ms/step - loss: 0.0962 - accuracy: 0.9700 - val_loss: 0.4173 - val_accuracy: 0.8729\n",
      "Epoch 14/20\n",
      "323/323 [==============================] - 6s 19ms/step - loss: 0.0860 - accuracy: 0.9741 - val_loss: 0.4423 - val_accuracy: 0.8716\n",
      "Epoch 15/20\n",
      "323/323 [==============================] - 6s 18ms/step - loss: 0.0784 - accuracy: 0.9772 - val_loss: 0.4686 - val_accuracy: 0.8714\n",
      "Epoch 16/20\n",
      "323/323 [==============================] - 6s 18ms/step - loss: 0.0767 - accuracy: 0.9775 - val_loss: 0.4905 - val_accuracy: 0.8708\n",
      "Epoch 17/20\n",
      "323/323 [==============================] - 6s 18ms/step - loss: 0.0714 - accuracy: 0.9790 - val_loss: 0.5085 - val_accuracy: 0.8655\n",
      "Epoch 18/20\n",
      "323/323 [==============================] - 6s 18ms/step - loss: 0.0626 - accuracy: 0.9823 - val_loss: 0.5276 - val_accuracy: 0.8685\n",
      "Epoch 19/20\n",
      "323/323 [==============================] - 6s 18ms/step - loss: 0.0589 - accuracy: 0.9835 - val_loss: 0.5104 - val_accuracy: 0.8652\n",
      "Epoch 20/20\n",
      "323/323 [==============================] - 6s 18ms/step - loss: 0.0554 - accuracy: 0.9848 - val_loss: 0.5579 - val_accuracy: 0.8614\n",
      ">>>> Elapsed time: 121.56985187530518s\n"
     ]
    }
   ],
   "source": [
    "fit_model(model)"
   ]
  },
  {
   "cell_type": "code",
   "execution_count": null,
   "id": "556eb91b",
   "metadata": {},
   "outputs": [],
   "source": []
  }
 ],
 "metadata": {
  "kernelspec": {
   "display_name": "Python 3 (ipykernel)",
   "language": "python",
   "name": "python3"
  },
  "language_info": {
   "codemirror_mode": {
    "name": "ipython",
    "version": 3
   },
   "file_extension": ".py",
   "mimetype": "text/x-python",
   "name": "python",
   "nbconvert_exporter": "python",
   "pygments_lexer": "ipython3",
   "version": "3.11.9"
  }
 },
 "nbformat": 4,
 "nbformat_minor": 5
}
